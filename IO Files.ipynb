{
 "cells": [
  {
   "cell_type": "code",
   "execution_count": 1,
   "id": "fc72c212",
   "metadata": {},
   "outputs": [
    {
     "name": "stdout",
     "output_type": "stream",
     "text": [
      "Writing mytext.txt\n"
     ]
    }
   ],
   "source": [
    "%%writefile mytext.txt\n",
    "Hey this is the text file\n",
    "this is line 2\n",
    "also got line 3"
   ]
  },
  {
   "cell_type": "code",
   "execution_count": 2,
   "id": "5f94363f",
   "metadata": {},
   "outputs": [
    {
     "data": {
      "text/plain": [
       "'C:\\\\Users\\\\adnan\\\\OneDrive\\\\Documents\\\\GitHub\\\\PY-stuffs'"
      ]
     },
     "execution_count": 2,
     "metadata": {},
     "output_type": "execute_result"
    }
   ],
   "source": [
    "pwd"
   ]
  },
  {
   "cell_type": "code",
   "execution_count": 4,
   "id": "4236ac59",
   "metadata": {},
   "outputs": [],
   "source": [
    "myfile = open('mytext.txt')"
   ]
  },
  {
   "cell_type": "code",
   "execution_count": 5,
   "id": "be0d3b7d",
   "metadata": {},
   "outputs": [
    {
     "data": {
      "text/plain": [
       "'Hey this is the text file\\nthis is line 2\\nalso got line 3\\n'"
      ]
     },
     "execution_count": 5,
     "metadata": {},
     "output_type": "execute_result"
    }
   ],
   "source": [
    "myfile.read()"
   ]
  },
  {
   "cell_type": "code",
   "execution_count": 6,
   "id": "e044f554",
   "metadata": {},
   "outputs": [
    {
     "data": {
      "text/plain": [
       "''"
      ]
     },
     "execution_count": 6,
     "metadata": {},
     "output_type": "execute_result"
    }
   ],
   "source": [
    "myfile.read()"
   ]
  },
  {
   "cell_type": "code",
   "execution_count": 13,
   "id": "ecad5263",
   "metadata": {},
   "outputs": [
    {
     "data": {
      "text/plain": [
       "0"
      ]
     },
     "execution_count": 13,
     "metadata": {},
     "output_type": "execute_result"
    }
   ],
   "source": [
    "myfile.seek(0)"
   ]
  },
  {
   "cell_type": "code",
   "execution_count": 8,
   "id": "7843812d",
   "metadata": {},
   "outputs": [
    {
     "data": {
      "text/plain": [
       "'Hey this is the text file\\nthis is line 2\\nalso got line 3\\n'"
      ]
     },
     "execution_count": 8,
     "metadata": {},
     "output_type": "execute_result"
    }
   ],
   "source": [
    "myfile.read()"
   ]
  },
  {
   "cell_type": "code",
   "execution_count": 14,
   "id": "454d2e5e",
   "metadata": {},
   "outputs": [],
   "source": [
    "contents = myfile.read()"
   ]
  },
  {
   "cell_type": "code",
   "execution_count": 15,
   "id": "06bca875",
   "metadata": {},
   "outputs": [
    {
     "data": {
      "text/plain": [
       "'Hey this is the text file\\nthis is line 2\\nalso got line 3\\n'"
      ]
     },
     "execution_count": 15,
     "metadata": {},
     "output_type": "execute_result"
    }
   ],
   "source": [
    "contents"
   ]
  },
  {
   "cell_type": "code",
   "execution_count": 19,
   "id": "00fbf7fe",
   "metadata": {},
   "outputs": [
    {
     "data": {
      "text/plain": [
       "0"
      ]
     },
     "execution_count": 19,
     "metadata": {},
     "output_type": "execute_result"
    }
   ],
   "source": [
    "myfile.seek(0)"
   ]
  },
  {
   "cell_type": "code",
   "execution_count": 20,
   "id": "5b055046",
   "metadata": {},
   "outputs": [
    {
     "data": {
      "text/plain": [
       "['Hey this is the text file\\n', 'this is line 2\\n', 'also got line 3\\n']"
      ]
     },
     "execution_count": 20,
     "metadata": {},
     "output_type": "execute_result"
    }
   ],
   "source": [
    "myfile.readlines()"
   ]
  },
  {
   "cell_type": "code",
   "execution_count": 21,
   "id": "d4d68c93",
   "metadata": {},
   "outputs": [],
   "source": [
    "myfile.close()"
   ]
  },
  {
   "cell_type": "code",
   "execution_count": 22,
   "id": "32494691",
   "metadata": {},
   "outputs": [],
   "source": [
    "with open('mytext.txt') as mynewfile:\n",
    "    contents = mynewfile.read()"
   ]
  },
  {
   "cell_type": "code",
   "execution_count": 23,
   "id": "88ff1e6c",
   "metadata": {},
   "outputs": [
    {
     "data": {
      "text/plain": [
       "'Hey this is the text file\\nthis is line 2\\nalso got line 3\\n'"
      ]
     },
     "execution_count": 23,
     "metadata": {},
     "output_type": "execute_result"
    }
   ],
   "source": [
    "contents"
   ]
  },
  {
   "cell_type": "code",
   "execution_count": 24,
   "id": "60c42d3e",
   "metadata": {},
   "outputs": [
    {
     "data": {
      "text/plain": [
       "'Hey this is the text file\\nthis is line 2\\nalso got line 3\\n'"
      ]
     },
     "execution_count": 24,
     "metadata": {},
     "output_type": "execute_result"
    }
   ],
   "source": [
    "contents"
   ]
  },
  {
   "cell_type": "code",
   "execution_count": 25,
   "id": "8bef6e94",
   "metadata": {},
   "outputs": [],
   "source": [
    "with open('mytext.txt',mode='r') as mynewfile:\n",
    "    contents = mynewfile.read()"
   ]
  },
  {
   "cell_type": "markdown",
   "id": "1edb3c19",
   "metadata": {},
   "source": [
    "    mode = 'r' Read only\n",
    "    mode = 'w' Write only\n",
    "    mode = 'a' append\n",
    "    mode = 'r+' Reading and Writing\n",
    "    mode = 'w+' Writing and Reading (overrites the existing)"
   ]
  },
  {
   "cell_type": "code",
   "execution_count": 26,
   "id": "22dee619",
   "metadata": {},
   "outputs": [
    {
     "name": "stdout",
     "output_type": "stream",
     "text": [
      "Writing myfile.txt\n"
     ]
    }
   ],
   "source": [
    "%%writefile myfile.txt\n",
    "One in first\n",
    "Two in second\n",
    "Three in third"
   ]
  },
  {
   "cell_type": "code",
   "execution_count": 28,
   "id": "2fa40f3b",
   "metadata": {},
   "outputs": [
    {
     "name": "stdout",
     "output_type": "stream",
     "text": [
      "One in first\n",
      "Two in second\n",
      "Three in third\n",
      "\n"
     ]
    }
   ],
   "source": [
    "with open('myfile.txt',mode='r')as f:\n",
    "    print(f.read())"
   ]
  },
  {
   "cell_type": "code",
   "execution_count": 30,
   "id": "3acb9fbb",
   "metadata": {},
   "outputs": [],
   "source": [
    "with open('myfile.txt',mode='a')as f:\n",
    "    f.write('Four in fourth')"
   ]
  },
  {
   "cell_type": "code",
   "execution_count": 31,
   "id": "2bce2b8e",
   "metadata": {},
   "outputs": [
    {
     "name": "stdout",
     "output_type": "stream",
     "text": [
      "One in first\n",
      "Two in second\n",
      "Three in third\n",
      "Four in fourth\n"
     ]
    }
   ],
   "source": [
    "with open('myfile.txt',mode='r')as f:\n",
    "    print(f.read())"
   ]
  },
  {
   "cell_type": "code",
   "execution_count": 32,
   "id": "245c425a",
   "metadata": {},
   "outputs": [],
   "source": [
    "with open('myfile1.txt',mode='w')as f:\n",
    "    f.write('I just created this')"
   ]
  },
  {
   "cell_type": "code",
   "execution_count": 35,
   "id": "2059bbba",
   "metadata": {},
   "outputs": [
    {
     "name": "stdout",
     "output_type": "stream",
     "text": [
      "I just created this\n"
     ]
    }
   ],
   "source": [
    "with open('myfile1.txt',mode='r')as f:\n",
    "    print(f.read())\n",
    "    "
   ]
  },
  {
   "cell_type": "code",
   "execution_count": 36,
   "id": "84d6e354",
   "metadata": {},
   "outputs": [],
   "source": [
    "x = open('test.txt', 'w')\n",
    "x.write('Hello World')\n",
    "x.close()"
   ]
  },
  {
   "cell_type": "code",
   "execution_count": null,
   "id": "4af78fbf",
   "metadata": {},
   "outputs": [],
   "source": []
  }
 ],
 "metadata": {
  "kernelspec": {
   "display_name": "Python 3 (ipykernel)",
   "language": "python",
   "name": "python3"
  },
  "language_info": {
   "codemirror_mode": {
    "name": "ipython",
    "version": 3
   },
   "file_extension": ".py",
   "mimetype": "text/x-python",
   "name": "python",
   "nbconvert_exporter": "python",
   "pygments_lexer": "ipython3",
   "version": "3.9.12"
  }
 },
 "nbformat": 4,
 "nbformat_minor": 5
}
