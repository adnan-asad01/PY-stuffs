{
 "cells": [
  {
   "cell_type": "markdown",
   "id": "16c08f86",
   "metadata": {},
   "source": [
    "#### Import"
   ]
  },
  {
   "cell_type": "code",
   "execution_count": 306,
   "id": "af8fbea2",
   "metadata": {},
   "outputs": [
    {
     "name": "stdout",
     "output_type": "stream",
     "text": [
      "['echter Fensterkontakt', 259, 'https://community.tado.com/de/discussion/458/echter-fensterkontakt']\n",
      "['Benutzerabhängiger Away-Modus', 220, 'https://community.tado.com/de/discussion/1736/benutzerabhaengiger-away-modus']\n",
      "['Sommerbetrieb', 206, 'https://community.tado.com/de/discussion/724/sommerbetrieb']\n",
      "['Schichtbetrieb - Ich möchte gerne mehr als nur einen Zeitplan hinterlegen.', 162, 'https://community.tado.com/de/discussion/282/schichtbetrieb-ich-moechte-gerne-mehr-als-nur-einen-zeitplan-hinterlegen']\n",
      "['Signalverstärker/Repeater - Funkreichweite erhöhen Thermostate/ Bridge', 123, 'https://community.tado.com/de/discussion/1413/signalverstaerker-repeater-funkreichweite-erhoehen-thermostate-bridge']\n"
     ]
    }
   ],
   "source": [
    "import numpy as np\n",
    "import pandas\n",
    "\n",
    "import csv\n",
    "import matplotlib.pyplot as plt\n",
    "import seaborn as sns\n",
    "%matplotlib inline\n",
    "\n",
    "import requests\n",
    "\n",
    "    # open the file\n",
    "data = open(r'C:\\Users\\adnan\\Downloads\\Id list - Sheet1.csv',encoding = 'utf-8')\n",
    "    # csv.read\n",
    "csv_data = csv.reader(data)\n",
    "\n",
    "# reformat it into a python object list\n",
    "id_list = list(csv_data)\n",
    "# first part of the URL is constant\n",
    "base = \"https://community.tado.com/api/v2/discussions/\"\n",
    "\n",
    "score = []\n",
    "\n",
    "# access to each IDs one by one\n",
    "\n",
    "for line in id_list[0:5]:\n",
    "    main_url = base + str(line).replace(\"'\",\"\").replace(\"[\",\"\").replace(\"]\",\"\").replace(\"'\",\"\")\n",
    "    url = str(base)\n",
    "    \n",
    "    response = requests.get(main_url)\n",
    "    data = response.json()\n",
    "    \n",
    "#    print(str(data['score']))\n",
    "    single_score = []\n",
    "    single_score.append(data['score'])\n",
    "    score.append([data['name'],data['score'],data[r'url']])\n",
    "    \n",
    "#    Output file\n",
    "from csv import writer\n",
    "with open(r'C:\\Users\\adnan\\Downloads\\Top_12.csv', 'w', newline='') as f_obj:\n",
    "          \n",
    "    writer_obj = writer(f_obj)\n",
    "    for a in score:\n",
    "        writer_obj.writerow(a)\n",
    "        print(a)\n",
    "\n",
    "    f_obj.close()\n"
   ]
  }
 ],
 "metadata": {
  "kernelspec": {
   "display_name": "Python 3 (ipykernel)",
   "language": "python",
   "name": "python3"
  },
  "language_info": {
   "codemirror_mode": {
    "name": "ipython",
    "version": 3
   },
   "file_extension": ".py",
   "mimetype": "text/x-python",
   "name": "python",
   "nbconvert_exporter": "python",
   "pygments_lexer": "ipython3",
   "version": "3.9.12"
  }
 },
 "nbformat": 4,
 "nbformat_minor": 5
}
