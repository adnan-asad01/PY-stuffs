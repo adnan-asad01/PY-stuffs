{
 "cells": [
  {
   "cell_type": "code",
   "execution_count": 1,
   "id": "bf15c6b2",
   "metadata": {},
   "outputs": [],
   "source": [
    "name = \"Sam\""
   ]
  },
  {
   "cell_type": "code",
   "execution_count": 3,
   "id": "39dc85db",
   "metadata": {},
   "outputs": [],
   "source": [
    "#name[0] = \"P\""
   ]
  },
  {
   "cell_type": "code",
   "execution_count": 5,
   "id": "aaf6eeb6",
   "metadata": {},
   "outputs": [],
   "source": [
    "last_letters = name[1:]"
   ]
  },
  {
   "cell_type": "code",
   "execution_count": 6,
   "id": "f7967ba6",
   "metadata": {},
   "outputs": [
    {
     "data": {
      "text/plain": [
       "'am'"
      ]
     },
     "execution_count": 6,
     "metadata": {},
     "output_type": "execute_result"
    }
   ],
   "source": [
    "last_letters"
   ]
  },
  {
   "cell_type": "code",
   "execution_count": 7,
   "id": "1d686b18",
   "metadata": {},
   "outputs": [
    {
     "data": {
      "text/plain": [
       "'Pam'"
      ]
     },
     "execution_count": 7,
     "metadata": {},
     "output_type": "execute_result"
    }
   ],
   "source": [
    "'P'+last_letters"
   ]
  },
  {
   "cell_type": "code",
   "execution_count": 8,
   "id": "988f5fda",
   "metadata": {},
   "outputs": [],
   "source": [
    "h = 'Hello world'"
   ]
  },
  {
   "cell_type": "code",
   "execution_count": 9,
   "id": "d52e5ae0",
   "metadata": {},
   "outputs": [],
   "source": [
    "i = ' it is beautiful'"
   ]
  },
  {
   "cell_type": "code",
   "execution_count": 10,
   "id": "63a31bd1",
   "metadata": {},
   "outputs": [],
   "source": [
    "g = h + i"
   ]
  },
  {
   "cell_type": "code",
   "execution_count": 11,
   "id": "5c6ffb6d",
   "metadata": {},
   "outputs": [
    {
     "data": {
      "text/plain": [
       "'Hello world it is beautiful'"
      ]
     },
     "execution_count": 11,
     "metadata": {},
     "output_type": "execute_result"
    }
   ],
   "source": [
    "g"
   ]
  },
  {
   "cell_type": "code",
   "execution_count": 16,
   "id": "d61245a2",
   "metadata": {},
   "outputs": [],
   "source": [
    "g = (h + i * 2)"
   ]
  },
  {
   "cell_type": "code",
   "execution_count": 17,
   "id": "b14fa33b",
   "metadata": {},
   "outputs": [
    {
     "data": {
      "text/plain": [
       "'Hello world it is beautiful it is beautiful'"
      ]
     },
     "execution_count": 17,
     "metadata": {},
     "output_type": "execute_result"
    }
   ],
   "source": [
    "g"
   ]
  },
  {
   "cell_type": "code",
   "execution_count": 18,
   "id": "17aefbc8",
   "metadata": {},
   "outputs": [
    {
     "data": {
      "text/plain": [
       "'HELLO WORLD IT IS BEAUTIFUL IT IS BEAUTIFUL'"
      ]
     },
     "execution_count": 18,
     "metadata": {},
     "output_type": "execute_result"
    }
   ],
   "source": [
    "g.upper()"
   ]
  },
  {
   "cell_type": "code",
   "execution_count": 19,
   "id": "a6ff84d1",
   "metadata": {},
   "outputs": [
    {
     "data": {
      "text/plain": [
       "'hello world it is beautiful it is beautiful'"
      ]
     },
     "execution_count": 19,
     "metadata": {},
     "output_type": "execute_result"
    }
   ],
   "source": [
    "g.lower()"
   ]
  },
  {
   "cell_type": "code",
   "execution_count": 20,
   "id": "b008c172",
   "metadata": {},
   "outputs": [
    {
     "data": {
      "text/plain": [
       "['Hello', 'world', 'it', 'is', 'beautiful', 'it', 'is', 'beautiful']"
      ]
     },
     "execution_count": 20,
     "metadata": {},
     "output_type": "execute_result"
    }
   ],
   "source": [
    "g.split()"
   ]
  },
  {
   "cell_type": "code",
   "execution_count": 24,
   "id": "267b25a8",
   "metadata": {},
   "outputs": [],
   "source": [
    "a = 'hi this is a string'"
   ]
  },
  {
   "cell_type": "code",
   "execution_count": 25,
   "id": "e4882e2a",
   "metadata": {},
   "outputs": [
    {
     "data": {
      "text/plain": [
       "['hi', 'this', 'is', 'a', 'string']"
      ]
     },
     "execution_count": 25,
     "metadata": {},
     "output_type": "execute_result"
    }
   ],
   "source": [
    "a.split()"
   ]
  },
  {
   "cell_type": "code",
   "execution_count": 27,
   "id": "d0765a20",
   "metadata": {},
   "outputs": [
    {
     "data": {
      "text/plain": [
       "['h', ' th', 's ', 's a str', 'ng']"
      ]
     },
     "execution_count": 27,
     "metadata": {},
     "output_type": "execute_result"
    }
   ],
   "source": [
    "a.split('i')"
   ]
  },
  {
   "cell_type": "code",
   "execution_count": 28,
   "id": "de5ff6ce",
   "metadata": {},
   "outputs": [
    {
     "data": {
      "text/plain": [
       "['Hell', ' w', 'rld it is beautiful it is beautiful']"
      ]
     },
     "execution_count": 28,
     "metadata": {},
     "output_type": "execute_result"
    }
   ],
   "source": [
    "g.split('o')"
   ]
  },
  {
   "cell_type": "code",
   "execution_count": null,
   "id": "aef20192",
   "metadata": {},
   "outputs": [],
   "source": []
  }
 ],
 "metadata": {
  "kernelspec": {
   "display_name": "Python 3 (ipykernel)",
   "language": "python",
   "name": "python3"
  },
  "language_info": {
   "codemirror_mode": {
    "name": "ipython",
    "version": 3
   },
   "file_extension": ".py",
   "mimetype": "text/x-python",
   "name": "python",
   "nbconvert_exporter": "python",
   "pygments_lexer": "ipython3",
   "version": "3.9.12"
  }
 },
 "nbformat": 4,
 "nbformat_minor": 5
}
