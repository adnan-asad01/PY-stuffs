{
 "cells": [
  {
   "cell_type": "markdown",
   "id": "16c08f86",
   "metadata": {},
   "source": [
    "#### Import"
   ]
  },
  {
   "cell_type": "code",
   "execution_count": 10,
   "id": "af8fbea2",
   "metadata": {},
   "outputs": [],
   "source": [
    "import numpy as np\n",
    "import pandas\n",
    "\n",
    "import csv\n"
   ]
  },
  {
   "cell_type": "code",
   "execution_count": 11,
   "id": "dd12083c",
   "metadata": {},
   "outputs": [],
   "source": [
    "# open the file\n",
    "data = open(r'C:\\Users\\adnan\\Downloads\\Copy_of_Top_10.csv',encoding = 'utf-8')"
   ]
  },
  {
   "cell_type": "code",
   "execution_count": 12,
   "id": "5de4c00b",
   "metadata": {},
   "outputs": [],
   "source": [
    "# csv.read\n",
    "csv_data = csv.reader(data)"
   ]
  },
  {
   "cell_type": "code",
   "execution_count": 21,
   "id": "e25ba070",
   "metadata": {},
   "outputs": [
    {
     "ename": "NameError",
     "evalue": "name 'np' is not defined",
     "output_type": "error",
     "traceback": [
      "\u001b[1;31m---------------------------------------------------------------------------\u001b[0m",
      "\u001b[1;31mNameError\u001b[0m                                 Traceback (most recent call last)",
      "Input \u001b[1;32mIn [21]\u001b[0m, in \u001b[0;36m<cell line: 4>\u001b[1;34m()\u001b[0m\n\u001b[0;32m      2\u001b[0m data_lines \u001b[38;5;241m=\u001b[39m \u001b[38;5;28mlist\u001b[39m(csv_data)\n\u001b[0;32m      3\u001b[0m base \u001b[38;5;241m=\u001b[39m \u001b[38;5;124m\"\u001b[39m\u001b[38;5;124mhttps://tado.vanillacommunities.com/de/discussion/\u001b[39m\u001b[38;5;124m\"\u001b[39m\n\u001b[1;32m----> 4\u001b[0m data_array \u001b[38;5;241m=\u001b[39m \u001b[43mnp\u001b[49m\u001b[38;5;241m.\u001b[39marray(data_lines)\n\u001b[0;32m      5\u001b[0m \u001b[38;5;28mprint\u001b[39m(\u001b[38;5;28mtype\u001b[39m(data_array))\n",
      "\u001b[1;31mNameError\u001b[0m: name 'np' is not defined"
     ]
    }
   ],
   "source": [
    "# reformat it into a python object list\n",
    "data_lines = list(csv_data)\n",
    "base = \"https://tado.vanillacommunities.com/de/discussion/\"\n",
    "data_array = np.array(data_lines)\n",
    "print(type(data_array))"
   ]
  },
  {
   "cell_type": "code",
   "execution_count": 14,
   "id": "6329c834",
   "metadata": {},
   "outputs": [
    {
     "data": {
      "text/plain": [
       "[['Link', 'Demo ID'],\n",
       " ['https://tado.vanillacommunities.com/de/discussion/458/echter-fensterkontakt/p1',\n",
       "  '458'],\n",
       " ['https://tado.vanillacommunities.com/de/discussion/1736/benutzerabhaengiger-away-modus/p1',\n",
       "  '1736'],\n",
       " ['https://tado.vanillacommunities.com/de/discussion/724/sommerbetrieb/p1',\n",
       "  '724'],\n",
       " ['https://tado.vanillacommunities.com/de/discussion/282/ich-moechte-gerne-mehr-als-nur-einen-zeitplan-hinterlegen/p1',\n",
       "  '282'],\n",
       " ['https://tado.vanillacommunities.com/de/discussion/1413/signalverstaerker-repeater-funkreichweite-erhoehen-thermostate-bridge/p1',\n",
       "  '1413'],\n",
       " ['https://tado.vanillacommunities.com/de/discussion/729/zwei-gebaeude-wohnhaus-und-ferienhaus-eine-app/p1',\n",
       "  '729'],\n",
       " ['https://tado.vanillacommunities.com/de/discussion/2741/push-benachrichtigung-nach-dem-fenster-offen-modus/p1',\n",
       "  '2741'],\n",
       " ['https://tado.vanillacommunities.com/de/discussion/1140/temperaturverlauf-als-datei-exportieren/p1',\n",
       "  '1140'],\n",
       " ['https://tado.vanillacommunities.com/de/discussion/3832/tado-zeitplansteuerung-auch-lokal-verwalten-und-so-ohne-aktive-internetverbindung-steuerbar-machen#latest',\n",
       "  '3832'],\n",
       " ['https://tado.vanillacommunities.com/de/discussion/2162/benachrichtigung-wenn-man-lueften-soll#latest',\n",
       "  '2162'],\n",
       " ['https://tado.vanillacommunities.com/de/discussion/3561/thermostateinstellung-ueber-25-grad-ermoeglichen/p1',\n",
       "  '3561'],\n",
       " ['https://tado.vanillacommunities.com/de/discussion/1166/ventil-vor-festsetzen-bewahren#latest',\n",
       "  '1166'],\n",
       " ['https://tado.vanillacommunities.com/de/discussion/2315/feiertage-in-den-intelligenten-zeitplan-einbinden/p1',\n",
       "  '2315'],\n",
       " ['https://tado.vanillacommunities.com/de/discussion/316/fernzugriff/p1',\n",
       "  '316'],\n",
       " ['https://tado.vanillacommunities.com/de/discussion/8607/thread-unterstuetzung#latest',\n",
       "  '8607'],\n",
       " ['https://tado.vanillacommunities.com/de/discussion/1909/luftfeuchtigkeit-auf-startseite-anzeigen#latest',\n",
       "  '1909'],\n",
       " ['https://tado.vanillacommunities.com/de/discussion/1860/manuell-fenster-auf/p1',\n",
       "  '1860'],\n",
       " ['https://tado.vanillacommunities.com/de/discussion/387/statistik-temperaturverlauf-ueber-laengere-zeitraeume#latest',\n",
       "  '387'],\n",
       " ['https://tado.vanillacommunities.com/de/discussion/3404/vorlauf-und-aussentemperatur-anzeigen#latest',\n",
       "  '3404'],\n",
       " ['https://community.tado.com/de/discussion/1415/standardtemperatur-bei-verlust-der-verbindung#latest',\n",
       "  '1415'],\n",
       " ['https://tado.vanillacommunities.com/de/discussion/721/option-thermostat-an-aus-bei-leerer-batterie#latest',\n",
       "  '721'],\n",
       " ['https://tado.vanillacommunities.com/de/discussion/616/kabelgebundener-fernfuehler-an-heizkoerperthermostaten#latest',\n",
       "  '616'],\n",
       " ['https://tado.vanillacommunities.com/en-gb/discussion/464/develop-a-basic-backup-schedule-mode-for-when-tado-outage-or-loss-of-internet/p1',\n",
       "  '464'],\n",
       " ['https://tado.vanillacommunities.com/en-gb/discussion/4783/launch-a-range-extender-or-upgrade-to-mesh-network/p1',\n",
       "  '4783'],\n",
       " ['https://tado.vanillacommunities.com/en-gb/discussion/850/feedback-request-support-multiple-schedule-configurations-such-as-spring-etc/p1',\n",
       "  '850'],\n",
       " ['https://tado.vanillacommunities.com/en-gb/discussion/6/multi-home-support/p1',\n",
       "  '6'],\n",
       " ['https://tado.vanillacommunities.com/en-gb/discussion/441/show-battery-charge-level-as-a-percentage/p1',\n",
       "  '441'],\n",
       " ['https://tado.vanillacommunities.com/en-gb/discussion/1377/individual-geofence-option/p1',\n",
       "  '1377'],\n",
       " ['https://tado.vanillacommunities.com/en-gb/discussion/541/show-heating-history-in-browser-on-tado-com/p1',\n",
       "  '541'],\n",
       " ['https://tado.vanillacommunities.com/en-gb/discussion/2515/notification-when-device-looses-connectivity#latest',\n",
       "  '2515'],\n",
       " ['https://tado.vanillacommunities.com/en-gb/discussion/457/make-the-smart-radiator-valves-quieter/p1',\n",
       "  '457'],\n",
       " ['https://tado.vanillacommunities.com/en-gb/discussion/437/show-humidity-on-room-tile/p1',\n",
       "  '437'],\n",
       " ['https://tado.vanillacommunities.com/en-gb/discussion/8235/release-a-smaller-cheaper-wireless-temperature-sensor-for-the-smart-radiator-thermostats#latest',\n",
       "  '8235'],\n",
       " ['https://tado.vanillacommunities.com/en-gb/discussion/2142/show-the-flame-icon-on-the-tado-thermostat-display-when-the-boiler-is-running#latest',\n",
       "  '2142'],\n",
       " ['https://tado.vanillacommunities.com/en-gb/discussion/1232/my-tado-com-support-for-2fa#latest',\n",
       "  '1232'],\n",
       " ['https://tado.vanillacommunities.com/en-gb/discussion/3984/reduce-the-comfort-temperature-range-to-18-21-c/p1',\n",
       "  '3984'],\n",
       " ['https://tado.vanillacommunities.com/en-gb/discussion/4325/disable-trv-calibration-when-offset-is-changed-required-for-using-external-sensor/p1',\n",
       "  '4325'],\n",
       " ['https://tado.vanillacommunities.com/en-gb/discussion/818/keep-public-roadmap-up-to-date/p1',\n",
       "  '818'],\n",
       " ['https://community.tado.com/en-gb/discussion/7040/maximum-opening-percent-and-time-on-radiator-thermostate/p1',\n",
       "  '7040'],\n",
       " ['https://tado.vanillacommunities.com/en-gb/discussion/646/samsung-smartthings/p1',\n",
       "  '646'],\n",
       " ['https://tado.vanillacommunities.com/en-gb/discussion/1264/limit-user-access-privileges#latest',\n",
       "  '1264'],\n",
       " ['https://tado.vanillacommunities.com/en-gb/discussion/1796/smart-ac-control-10-c-setting/p1',\n",
       "  '1796'],\n",
       " ['https://community.tado.com/en-gb/discussion/1332/modify-limits-of-room-temperature-control',\n",
       "  '1332'],\n",
       " ['https://community.tado.com/en-gb/discussion/443/internet-bridge-with-poe#latest',\n",
       "  '443'],\n",
       " ['https://community.tado.com/en-gb/discussion/473/mode-that-emulates-a-manual-trv-behavior-for-smart-radiator-thermostat/p1?new=1',\n",
       "  '473'],\n",
       " ['https://tado.vanillacommunities.com/en-gb/discussion/1200/always-show-temperature-on-tado-ac#latest',\n",
       "  '1200'],\n",
       " ['https://tado.vanillacommunities.com/en-gb/discussion/4652/smart-radiator-summer-maintenance-bleeding-mode-leaving-the-radiator-open#latest',\n",
       "  '4652'],\n",
       " ['https://tado.vanillacommunities.com/en-gb/discussion/3875/local-api#latest',\n",
       "  '3875'],\n",
       " ['https://tado.vanillacommunities.com/en-gb/discussion/550/support-2-point-calibration-for-adjusting-temperature-offset-temperature-guesstimate#latest',\n",
       "  '550'],\n",
       " ['https://tado.vanillacommunities.com/en-gb/discussion/438/allow-swiping-to-access-next-room#latest',\n",
       "  '438'],\n",
       " ['https://community.tado.com/en-gb/discussion/1258/activate-open-window-detection-with-external-window-sensors',\n",
       "  '1258'],\n",
       " ['https://tado.vanillacommunities.com/es/discussion/1896/boton-de-vacaciones/p1',\n",
       "  '1896'],\n",
       " ['https://tado.vanillacommunities.com/es/discussion/2760/varios-domicilios/p1',\n",
       "  '2760'],\n",
       " ['https://tado.vanillacommunities.com/es/discussion/2970/calibracion-cabezales-en-frio-y-en-caliente/p1',\n",
       "  '2970'],\n",
       " ['https://tado.vanillacommunities.com/es/discussion/4814/opcion-display-siempre-encendido-opcional#latest',\n",
       "  '4814'],\n",
       " ['https://tado.vanillacommunities.com/es/discussion/1893/mejora-externa-en-cabezales-termostaticos/p1',\n",
       "  '1893'],\n",
       " ['https://tado.vanillacommunities.com/es/discussion/4828/graficas-accesibles-a-traves-de-la-web#latest',\n",
       "  '4828'],\n",
       " ['https://tado.vanillacommunities.com/es/discussion/3702/incluir-adaptadores-para-orkli-m28x1-0#latest',\n",
       "  '3702'],\n",
       " ['https://tado.vanillacommunities.com/es/discussion/592/pantalla-led-indicar-hora-y-temperatura-en-modo-reposo/p1',\n",
       "  '592'],\n",
       " ['https://tado.vanillacommunities.com/es/discussion/617/poder-modificar-la-temperatura-maxima-del-agua-de-la-caldera-para-los-radiadores#latest',\n",
       "  '617'],\n",
       " ['https://tado.vanillacommunities.com/es/discussion/1256/control-de-suelo-radiante-refrescante#latest',\n",
       "  '1256'],\n",
       " ['https://tado.vanillacommunities.com/es/discussion/2729/control-del-gradiente-calefaccion-entre-programas/p1',\n",
       "  '2729'],\n",
       " ['https://tado.vanillacommunities.com/es/discussion/3610/permisos-de-usuario#latest',\n",
       "  '3610'],\n",
       " ['https://tado.vanillacommunities.com/es/discussion/2424/aumentar-radio-vivienda-geolocalizacion#latest',\n",
       "  '2424'],\n",
       " ['https://tado.vanillacommunities.com/es/discussion/7405/una-grafica-global-que-resuma-el-comportamiento-de-tado-en-multiples-habitaciones#latest',\n",
       "  '7405'],\n",
       " ['https://tado.vanillacommunities.com/es/discussion/4865/opcion-de-los-graficos#latest',\n",
       "  '4865'],\n",
       " ['https://tado.vanillacommunities.com/es/discussion/11041/', '11041'],\n",
       " ['https://tado.vanillacommunities.com/es/discussion/2769/estadisticas-de-gastos#latest',\n",
       "  '2769'],\n",
       " ['https://tado.vanillacommunities.com/es/discussion/4502/control-de-climatizacion-inteligente-funcion-estacion#latest',\n",
       "  '4502'],\n",
       " ['https://tado.vanillacommunities.com/es/discussion/1791/creacion-de-perfiles-de-temperaturas-por-temporadas-invierno-verano-otono-o-segun-necesidades#latest',\n",
       "  '1791'],\n",
       " ['https://tado.vanillacommunities.com/es/discussion/10951/funcionamiento-sin-conexion#latest',\n",
       "  '10951'],\n",
       " ['https://tado.vanillacommunities.com/es/discussion/3162/modo-ventanas-abiertas-no-muy-precisa#latest',\n",
       "  '3162'],\n",
       " ['https://tado.vanillacommunities.com/es/discussion/1944/ajuste-apertura-ventanas#latest',\n",
       "  '1944'],\n",
       " ['https://tado.vanillacommunities.com/fr/discussion/1973/gerer-plusieurs-calendriers-et-des-semaines-a-et-b/p1',\n",
       "  '1973'],\n",
       " ['https://tado.vanillacommunities.com/fr/discussion/1795/graphe-dans-linterface-web/p1',\n",
       "  '1795'],\n",
       " ['https://tado.vanillacommunities.com/fr/discussion/1175/affichage-permanent-de-la-temperature-sur-le-boitier/p1',\n",
       "  '1175'],\n",
       " ['https://tado.vanillacommunities.com/fr/discussion/472/capteur-de-temperature-deporte/p1',\n",
       "  '472'],\n",
       " ['https://tado.vanillacommunities.com/fr/discussion/3649/compte-1-application-tado-plusieurs-lieux-a-gerer#latest',\n",
       "  '3649'],\n",
       " ['https://tado.vanillacommunities.com/fr/discussion/4391/bridge-internet-eteindre-les-leds-du-bridge#latest',\n",
       "  '4391'],\n",
       " ['https://tado.vanillacommunities.com/fr/discussion/7300/', '7300'],\n",
       " ['https://tado.vanillacommunities.com/fr/discussion/5319/app-indicateur-chauffage-sur-chacune-des-vignettes-de-la-page-daccueil#latest',\n",
       "  '5319'],\n",
       " ['https://tado.vanillacommunities.com/fr/discussion/775/plugin-jeedom/p1',\n",
       "  '775'],\n",
       " ['https://tado.vanillacommunities.com/fr/discussion/3505/app-widget#latest',\n",
       "  '3505'],\n",
       " ['https://tado.vanillacommunities.com/fr/discussion/7299', '7299'],\n",
       " ['https://tado.vanillacommunities.com/fr/discussion/2715/thermostat-intelligent-regler-la-plage-dacceptation-de-la-regulation-a-0-1-degre#latest',\n",
       "  '2715'],\n",
       " ['https://tado.vanillacommunities.com/fr/discussion/180/geolocalisation-associer-un-utilisateur-a-une-piece#latest',\n",
       "  '180'],\n",
       " ['https://tado.vanillacommunities.com/fr/discussion/3039', '3039'],\n",
       " ['https://tado.vanillacommunities.com/fr/discussion/4887/', '4887'],\n",
       " ['https://tado.vanillacommunities.com/fr/discussion/7262/', '7262'],\n",
       " ['https://tado.vanillacommunities.com/fr/discussion/5878/robustesse-des-raccords-sur-tetes-thermostatiques#latest',\n",
       "  '5878'],\n",
       " ['https://tado.vanillacommunities.com/fr/discussion/909/repasser-en-mode-automatique-depuis-homekit-ou-ifttt/p1',\n",
       "  '909'],\n",
       " ['https://tado.vanillacommunities.com/fr/discussion/2331/maison-connectee-changement-de-mode-maison-absent-via-ifttt-et-homekit#latest',\n",
       "  '2331'],\n",
       " ['https://tado.vanillacommunities.com/fr/discussion/3126/feuille-de-route-de-tado#latest',\n",
       "  '3126'],\n",
       " ['https://tado.vanillacommunities.com/fr/discussion/3437/detection-de-fenetre-ouverte-modification-de-lutilisation#latest',\n",
       "  '3437'],\n",
       " ['https://tado.vanillacommunities.com/fr/discussion/4642/avoir-un-mode-seche-serviettes#latest',\n",
       "  '4642'],\n",
       " ['https://tado.vanillacommunities.com/fr/discussion/3528/climatisation-fonction-danticipation-sur-les-tado-ac#latest',\n",
       "  '3528'],\n",
       " ['https://tado.vanillacommunities.com/it/discussion/749/modalita-estate-per-le-teste-termostatche/p1',\n",
       "  '749'],\n",
       " ['https://tado.vanillacommunities.com/it/discussion/1932/teste-intelligenti-tado-offset-di-temperatura-dinamico-o-doppio-calorifero-acceso-spento/p1',\n",
       "  '1932'],\n",
       " ['https://tado.vanillacommunities.com/it/discussion/3451/indicatore-caldaia-accesa#latest',\n",
       "  '3451'],\n",
       " ['https://tado.vanillacommunities.com/it/discussion/408/display-visione-caldaia-attiva-cone-nei-classici-termostati/p1',\n",
       "  '408'],\n",
       " ['https://tado.vanillacommunities.com/it/discussion/1966/settaggio-temperatura-massima-mandata-opentherm#latest',\n",
       "  '1966'],\n",
       " ['https://tado.vanillacommunities.com/it/discussion/1753/memoria-timer-quando-problemi-di-connessione/p1',\n",
       "  '1753'],\n",
       " ['https://tado.vanillacommunities.com/it/discussion/1007/valvola-termostatica-sempre-aperta/p1',\n",
       "  '1007'],\n",
       " ['https://tado.vanillacommunities.com/it/discussion/225/anti-calcificazione/p1',\n",
       "  '225'],\n",
       " ['https://tado.vanillacommunities.com/it/discussion/1501/display-sempre-attivo-aggiunta-dei-decimali#latest',\n",
       "  '1501'],\n",
       " ['https://tado.vanillacommunities.com/it/discussion/2359/gestire-due-abitazioni-con-lo-stesso-account#latest',\n",
       "  '2359'],\n",
       " ['https://tado.vanillacommunities.com/it/discussion/3322/festivita-ferie-a-casa#latest',\n",
       "  '3322'],\n",
       " ['https://tado.vanillacommunities.com/it/discussion/2998', '2998'],\n",
       " ['https://tado.vanillacommunities.com/it/discussion/2214/grafico-mensile-da-webapp#latest',\n",
       "  '2214'],\n",
       " ['https://tado.vanillacommunities.com/it/discussion/2043/livello-umidita-su-widget-nella-home#latest',\n",
       "  '2043'],\n",
       " ['https://tado.vanillacommunities.com/it/discussion/2479/comfort-umidita#latest',\n",
       "  '2479'],\n",
       " ['https://tado.vanillacommunities.com/it/discussion/334/programmazione-intelligente-personalizzabile#latest',\n",
       "  '334'],\n",
       " ['https://tado.vanillacommunities.com/it/discussion/2575', '2575'],\n",
       " ['https://tado.vanillacommunities.com/it/discussion/10757/internet-bridge-anche-repeater#latest',\n",
       "  '10757'],\n",
       " ['https://tado.vanillacommunities.com/it/discussion/1181/collegarsi-alle-unita-senza-connessione-internet-quando-sei-a-casa#latest',\n",
       "  '1181'],\n",
       " ['https://tado.vanillacommunities.com/it/discussion/1369/visione-andamento-temperature-e-dati-climatici-per-arco-di-tempo-maggiore#latest',\n",
       "  '1369'],\n",
       " ['https://tado.vanillacommunities.com/nl/discussion/6034/instellen-van-cv-water-temperatuur-via-de-app-net-als-warm-water-opentherm/p1?new=1',\n",
       "  '6034'],\n",
       " ['https://tado.vanillacommunities.com/nl/discussion/26/geolocatie-per-kamer/p1',\n",
       "  '26'],\n",
       " ['https://tado.vanillacommunities.com/nl/discussion/520/handmatige-instelling-per-halve-graad-op-thermostaat/p1',\n",
       "  '520'],\n",
       " ['https://tado.vanillacommunities.com/nl/discussion/345/vakantie-schema/p1',\n",
       "  '345'],\n",
       " ['https://tado.vanillacommunities.com/nl/discussion/336/slim-schema-behouden-tijdens-internetstoring/p1',\n",
       "  '336'],\n",
       " ['https://tado.vanillacommunities.com/nl/discussion/242/meerdere-woningen-op-1-account-multi-home#latest',\n",
       "  '242'],\n",
       " ['https://tado.vanillacommunities.com/nl/discussion/504/slimmer-schema/p1',\n",
       "  '504'],\n",
       " ['https://tado.vanillacommunities.com/nl/discussion/615/koud-en-te-warm-als-variabele-in-kunnen-stellen-bij-klimaatcomfort#latest',\n",
       "  '615'],\n",
       " ['https://tado.vanillacommunities.com/nl/discussion/321/functie-feestdag-weekdag/p1',\n",
       "  '321'],\n",
       " ['https://tado.vanillacommunities.com/nl/discussion/2818/v3-app-temperatuur-aanpassen-tot-eerstvolgende-automatische-verandering-incl-geofencing#latest',\n",
       "  '2818'],\n",
       " ['https://community.tado.com/nl/discussion/7889/dekking-van-tado-netwerk-verbeteren-met-extra-internet-bridge-range-extender',\n",
       "  '7889'],\n",
       " ['https://tado.vanillacommunities.com/nl/discussion/243/rapportage-verwarmingsketel#latest',\n",
       "  '243'],\n",
       " ['https://community.tado.com/nl/discussion/8677/het-maken-van-vroege-start-en-verwarmen-voor-aankomst-2e-discussie',\n",
       "  '8677'],\n",
       " ['https://community.tado.com/nl/discussion/5185/rechten-per-gebruiker',\n",
       "  '5185'],\n",
       " ['https://tado.vanillacommunities.com/nl/discussion/5925/add-heating-activity-to-tile-overview#latest',\n",
       "  '5925'],\n",
       " ['https://community.tado.com/nl/discussion/1017/functie-schakeling-thermostaatknop-verwarmen-koelen-stand/p1',\n",
       "  '1017'],\n",
       " ['https://tado.vanillacommunities.com/nl/discussion/390/expert-mode-en-meerdere-zones-samenwerken#latest',\n",
       "  '390'],\n",
       " ['https://tado.vanillacommunities.com/nl/discussion/4170/notificatie-verbroken-verbinding/p1',\n",
       "  '4170'],\n",
       " ['https://tado.vanillacommunities.com/nl/discussion/2824/power-over-ethernet-poe-support-internet-bridge#latest',\n",
       "  '2824'],\n",
       " ['https://tado.vanillacommunities.com/nl/discussion/1154/exceed-the-maximum-value-to-unlimited-instead-of-25-degrees-celsius#latest',\n",
       "  '1154'],\n",
       " ['https://tado.vanillacommunities.com/nl/discussion/3333/thermostaatknop-minder-intelligent-maken#latest',\n",
       "  '3333']]"
      ]
     },
     "execution_count": 14,
     "metadata": {},
     "output_type": "execute_result"
    }
   ],
   "source": [
    "data_lines"
   ]
  },
  {
   "cell_type": "code",
   "execution_count": 17,
   "id": "269237c9",
   "metadata": {},
   "outputs": [
    {
     "data": {
      "text/plain": [
       "'458'"
      ]
     },
     "execution_count": 17,
     "metadata": {},
     "output_type": "execute_result"
    }
   ],
   "source": [
    "data_lines[1][1]"
   ]
  },
  {
   "cell_type": "code",
   "execution_count": 18,
   "id": "d7c75c25",
   "metadata": {},
   "outputs": [
    {
     "data": {
      "text/plain": [
       "138"
      ]
     },
     "execution_count": 18,
     "metadata": {},
     "output_type": "execute_result"
    }
   ],
   "source": [
    "len(data_lines)"
   ]
  },
  {
   "cell_type": "code",
   "execution_count": 33,
   "id": "9a2d00c6",
   "metadata": {},
   "outputs": [
    {
     "name": "stdout",
     "output_type": "stream",
     "text": [
      "['Title 1', 'Title 2', 'Title 3', 'Title 4', 'Title 5']\n",
      "['A', '10', '30', '40', '50']\n",
      "['B', '10', '30', '40', '50']\n"
     ]
    }
   ],
   "source": [
    "for line in data_lines[:3]:\n",
    "    print(line)"
   ]
  },
  {
   "cell_type": "code",
   "execution_count": 34,
   "id": "38ad15dd",
   "metadata": {},
   "outputs": [],
   "source": [
    "item4 = []"
   ]
  },
  {
   "cell_type": "code",
   "execution_count": 39,
   "id": "8c3d3f31",
   "metadata": {},
   "outputs": [],
   "source": [
    "for line in data_lines[0:5]:\n",
    "    item4.append(line[3])"
   ]
  },
  {
   "cell_type": "code",
   "execution_count": 41,
   "id": "d2b5981e",
   "metadata": {},
   "outputs": [
    {
     "data": {
      "text/plain": [
       "['40', '40', '40', '50', 'Title 4', '40', '40', '40', '50']"
      ]
     },
     "execution_count": 41,
     "metadata": {},
     "output_type": "execute_result"
    }
   ],
   "source": [
    "item4"
   ]
  },
  {
   "cell_type": "code",
   "execution_count": 42,
   "id": "802f7ee8",
   "metadata": {},
   "outputs": [
    {
     "data": {
      "text/plain": [
       "['C', '10', '30', '40', '50']"
      ]
     },
     "execution_count": 42,
     "metadata": {},
     "output_type": "execute_result"
    }
   ],
   "source": [
    "data_lines[3]"
   ]
  },
  {
   "cell_type": "code",
   "execution_count": null,
   "id": "6a7f43d0",
   "metadata": {},
   "outputs": [],
   "source": []
  }
 ],
 "metadata": {
  "kernelspec": {
   "display_name": "Python 3 (ipykernel)",
   "language": "python",
   "name": "python3"
  },
  "language_info": {
   "codemirror_mode": {
    "name": "ipython",
    "version": 3
   },
   "file_extension": ".py",
   "mimetype": "text/x-python",
   "name": "python",
   "nbconvert_exporter": "python",
   "pygments_lexer": "ipython3",
   "version": "3.9.12"
  }
 },
 "nbformat": 4,
 "nbformat_minor": 5
}
