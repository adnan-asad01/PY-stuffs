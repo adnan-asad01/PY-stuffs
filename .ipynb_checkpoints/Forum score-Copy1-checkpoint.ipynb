{
 "cells": [
  {
   "cell_type": "markdown",
   "id": "16c08f86",
   "metadata": {},
   "source": [
    "#### Import"
   ]
  },
  {
   "cell_type": "code",
   "execution_count": 274,
   "id": "af8fbea2",
   "metadata": {},
   "outputs": [],
   "source": [
    "import numpy as np\n",
    "import pandas\n",
    "\n",
    "import csv\n",
    "import matplotlib.pyplot as plt\n",
    "import seaborn as sns\n",
    "%matplotlib inline\n",
    "\n",
    "import requests\n",
    "\n"
   ]
  },
  {
   "cell_type": "code",
   "execution_count": 275,
   "id": "dd12083c",
   "metadata": {},
   "outputs": [],
   "source": [
    "# open the file\n",
    "data = open(r'C:\\Users\\adnan\\Downloads\\Id list - Sheet1.csv',encoding = 'utf-8')"
   ]
  },
  {
   "cell_type": "code",
   "execution_count": 276,
   "id": "5de4c00b",
   "metadata": {},
   "outputs": [],
   "source": [
    "# csv.read\n",
    "csv_data = csv.reader(data)"
   ]
  },
  {
   "cell_type": "code",
   "execution_count": 277,
   "id": "e25ba070",
   "metadata": {},
   "outputs": [],
   "source": [
    "# reformat it into a python object list\n",
    "id_list = list(csv_data)\n",
    "# first part of the URL is constant\n",
    "base = \"https://community.tado.com/api/v2/discussions/\"\n",
    "data_array = np.array(id_list)\n",
    "#print(type(data_array))"
   ]
  },
  {
   "cell_type": "code",
   "execution_count": 278,
   "id": "d7c75c25",
   "metadata": {},
   "outputs": [
    {
     "data": {
      "text/plain": [
       "137"
      ]
     },
     "execution_count": 278,
     "metadata": {},
     "output_type": "execute_result"
    }
   ],
   "source": [
    "# count of IDs\n",
    "len(id_list)"
   ]
  },
  {
   "cell_type": "code",
   "execution_count": 279,
   "id": "d3aaed6e",
   "metadata": {},
   "outputs": [],
   "source": [
    "#data"
   ]
  },
  {
   "cell_type": "code",
   "execution_count": 280,
   "id": "424436e4",
   "metadata": {},
   "outputs": [],
   "source": [
    "score = []"
   ]
  },
  {
   "cell_type": "code",
   "execution_count": 281,
   "id": "9a2d00c6",
   "metadata": {},
   "outputs": [
    {
     "name": "stdout",
     "output_type": "stream",
     "text": [
      "259\n",
      "220\n",
      "206\n",
      "162\n",
      "123\n"
     ]
    }
   ],
   "source": [
    "# access to each IDs one by one\n",
    "\n",
    "for line in id_list[:5]:\n",
    "    main_url = base + str(line).replace(\"'\",\"\").replace(\"[\",\"\").replace(\"]\",\"\").replace(\"'\",\"\")\n",
    "    url = str(base)\n",
    "    \n",
    "    response = requests.get(main_url)\n",
    "    data = response.json()\n",
    "    \n",
    "    print(str(data['score']))\n",
    "    single_score = []\n",
    "    single_score.append(data['score'])\n",
    "    score.append([data['score'],data['name'],data[r'url']])\n",
    "#   score[i] = data['score']\n",
    "#   i=i+1"
   ]
  },
  {
   "cell_type": "code",
   "execution_count": 282,
   "id": "86e3cd7f",
   "metadata": {
    "scrolled": true
   },
   "outputs": [
    {
     "data": {
      "text/plain": [
       "[[259,\n",
       "  'echter Fensterkontakt',\n",
       "  'https://community.tado.com/de/discussion/458/echter-fensterkontakt'],\n",
       " [220,\n",
       "  'Benutzerabhängiger Away-Modus',\n",
       "  'https://community.tado.com/de/discussion/1736/benutzerabhaengiger-away-modus'],\n",
       " [206,\n",
       "  'Sommerbetrieb',\n",
       "  'https://community.tado.com/de/discussion/724/sommerbetrieb'],\n",
       " [162,\n",
       "  'Schichtbetrieb - Ich möchte gerne mehr als nur einen Zeitplan hinterlegen.',\n",
       "  'https://community.tado.com/de/discussion/282/schichtbetrieb-ich-moechte-gerne-mehr-als-nur-einen-zeitplan-hinterlegen'],\n",
       " [123,\n",
       "  'Signalverstärker/Repeater - Funkreichweite erhöhen Thermostate/ Bridge',\n",
       "  'https://community.tado.com/de/discussion/1413/signalverstaerker-repeater-funkreichweite-erhoehen-thermostate-bridge']]"
      ]
     },
     "execution_count": 282,
     "metadata": {},
     "output_type": "execute_result"
    }
   ],
   "source": [
    "score"
   ]
  },
  {
   "cell_type": "code",
   "execution_count": 189,
   "id": "5079c650",
   "metadata": {},
   "outputs": [],
   "source": [
    "#data.close()"
   ]
  },
  {
   "cell_type": "code",
   "execution_count": 266,
   "id": "cb199d68",
   "metadata": {},
   "outputs": [],
   "source": [
    "from csv import writer\n",
    "\n"
   ]
  },
  {
   "cell_type": "code",
   "execution_count": 267,
   "id": "9669d1b0",
   "metadata": {},
   "outputs": [],
   "source": [
    "with open(r'C:\\Users\\adnan\\Downloads\\Top_10.csv', 'w', newline='') as f_obj:\n",
    "          \n",
    "    writer_obj = writer(f_obj)\n",
    "    for a in score:\n",
    "        writer_obj.writerow(a)\n",
    "    f_obj.close()"
   ]
  },
  {
   "cell_type": "code",
   "execution_count": null,
   "id": "c1f3a2c3",
   "metadata": {},
   "outputs": [],
   "source": []
  }
 ],
 "metadata": {
  "kernelspec": {
   "display_name": "Python 3 (ipykernel)",
   "language": "python",
   "name": "python3"
  },
  "language_info": {
   "codemirror_mode": {
    "name": "ipython",
    "version": 3
   },
   "file_extension": ".py",
   "mimetype": "text/x-python",
   "name": "python",
   "nbconvert_exporter": "python",
   "pygments_lexer": "ipython3",
   "version": "3.9.12"
  }
 },
 "nbformat": 4,
 "nbformat_minor": 5
}
