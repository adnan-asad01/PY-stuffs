{
 "cells": [
  {
   "cell_type": "markdown",
   "id": "16c08f86",
   "metadata": {},
   "source": [
    "#### Import"
   ]
  },
  {
   "cell_type": "code",
   "execution_count": 32,
   "id": "af8fbea2",
   "metadata": {},
   "outputs": [],
   "source": [
    "import numpy as np\n",
    "import pandas\n",
    "\n",
    "import csv\n",
    "import matplotlib.pyplot as plt\n",
    "import seaborn as sns\n",
    "%matplotlib inline\n",
    "from urllib.request import urlopen\n",
    "from bs4 import BeautifulSoup\n",
    "\n"
   ]
  },
  {
   "cell_type": "code",
   "execution_count": 33,
   "id": "dd12083c",
   "metadata": {},
   "outputs": [],
   "source": [
    "# open the file\n",
    "data = open(r'C:\\Users\\adnan\\Downloads\\Copy_of_Top_10.csv',encoding = 'utf-8')"
   ]
  },
  {
   "cell_type": "code",
   "execution_count": 34,
   "id": "5de4c00b",
   "metadata": {},
   "outputs": [],
   "source": [
    "# csv.read\n",
    "csv_data = csv.reader(data)"
   ]
  },
  {
   "cell_type": "code",
   "execution_count": 35,
   "id": "e25ba070",
   "metadata": {},
   "outputs": [
    {
     "name": "stdout",
     "output_type": "stream",
     "text": [
      "<class 'numpy.ndarray'>\n"
     ]
    }
   ],
   "source": [
    "# reformat it into a python object list\n",
    "data_lines = list(csv_data)\n",
    "base = \"https://tado.vanillacommunities.com/de/discussion/\"\n",
    "data_array = np.array(data_lines)\n",
    "print(type(data_array))"
   ]
  },
  {
   "cell_type": "code",
   "execution_count": 43,
   "id": "d7c75c25",
   "metadata": {},
   "outputs": [
    {
     "data": {
      "text/plain": [
       "137"
      ]
     },
     "execution_count": 43,
     "metadata": {},
     "output_type": "execute_result"
    }
   ],
   "source": [
    "len(data_lines)"
   ]
  },
  {
   "cell_type": "code",
   "execution_count": 44,
   "id": "9a2d00c6",
   "metadata": {},
   "outputs": [
    {
     "name": "stdout",
     "output_type": "stream",
     "text": [
      "https://tado.vanillacommunities.com/de/discussion/458\n",
      "https://tado.vanillacommunities.com/de/discussion/1736\n",
      "https://tado.vanillacommunities.com/de/discussion/724\n",
      "https://tado.vanillacommunities.com/de/discussion/282\n",
      "https://tado.vanillacommunities.com/de/discussion/1413\n",
      "https://tado.vanillacommunities.com/de/discussion/729\n",
      "https://tado.vanillacommunities.com/de/discussion/2741\n",
      "https://tado.vanillacommunities.com/de/discussion/1140\n",
      "https://tado.vanillacommunities.com/de/discussion/3832\n",
      "https://tado.vanillacommunities.com/de/discussion/2162\n",
      "https://tado.vanillacommunities.com/de/discussion/3561\n",
      "https://tado.vanillacommunities.com/de/discussion/1166\n",
      "https://tado.vanillacommunities.com/de/discussion/2315\n",
      "https://tado.vanillacommunities.com/de/discussion/316\n",
      "https://tado.vanillacommunities.com/de/discussion/8607\n",
      "https://tado.vanillacommunities.com/de/discussion/1909\n",
      "https://tado.vanillacommunities.com/de/discussion/1860\n",
      "https://tado.vanillacommunities.com/de/discussion/387\n",
      "https://tado.vanillacommunities.com/de/discussion/3404\n",
      "https://tado.vanillacommunities.com/de/discussion/1415\n",
      "https://tado.vanillacommunities.com/de/discussion/721\n",
      "https://tado.vanillacommunities.com/de/discussion/616\n",
      "https://tado.vanillacommunities.com/de/discussion/464\n",
      "https://tado.vanillacommunities.com/de/discussion/4783\n",
      "https://tado.vanillacommunities.com/de/discussion/850\n",
      "https://tado.vanillacommunities.com/de/discussion/6\n",
      "https://tado.vanillacommunities.com/de/discussion/441\n",
      "https://tado.vanillacommunities.com/de/discussion/1377\n",
      "https://tado.vanillacommunities.com/de/discussion/541\n",
      "https://tado.vanillacommunities.com/de/discussion/2515\n",
      "https://tado.vanillacommunities.com/de/discussion/457\n",
      "https://tado.vanillacommunities.com/de/discussion/437\n",
      "https://tado.vanillacommunities.com/de/discussion/8235\n",
      "https://tado.vanillacommunities.com/de/discussion/2142\n",
      "https://tado.vanillacommunities.com/de/discussion/1232\n",
      "https://tado.vanillacommunities.com/de/discussion/3984\n",
      "https://tado.vanillacommunities.com/de/discussion/4325\n",
      "https://tado.vanillacommunities.com/de/discussion/818\n",
      "https://tado.vanillacommunities.com/de/discussion/7040\n",
      "https://tado.vanillacommunities.com/de/discussion/646\n",
      "https://tado.vanillacommunities.com/de/discussion/1264\n",
      "https://tado.vanillacommunities.com/de/discussion/1796\n",
      "https://tado.vanillacommunities.com/de/discussion/1332\n",
      "https://tado.vanillacommunities.com/de/discussion/443\n",
      "https://tado.vanillacommunities.com/de/discussion/473\n",
      "https://tado.vanillacommunities.com/de/discussion/1200\n",
      "https://tado.vanillacommunities.com/de/discussion/4652\n",
      "https://tado.vanillacommunities.com/de/discussion/3875\n",
      "https://tado.vanillacommunities.com/de/discussion/550\n",
      "https://tado.vanillacommunities.com/de/discussion/438\n",
      "https://tado.vanillacommunities.com/de/discussion/1258\n",
      "https://tado.vanillacommunities.com/de/discussion/1896\n",
      "https://tado.vanillacommunities.com/de/discussion/2760\n",
      "https://tado.vanillacommunities.com/de/discussion/2970\n",
      "https://tado.vanillacommunities.com/de/discussion/4814\n",
      "https://tado.vanillacommunities.com/de/discussion/1893\n",
      "https://tado.vanillacommunities.com/de/discussion/4828\n",
      "https://tado.vanillacommunities.com/de/discussion/3702\n",
      "https://tado.vanillacommunities.com/de/discussion/592\n",
      "https://tado.vanillacommunities.com/de/discussion/617\n",
      "https://tado.vanillacommunities.com/de/discussion/1256\n",
      "https://tado.vanillacommunities.com/de/discussion/2729\n",
      "https://tado.vanillacommunities.com/de/discussion/3610\n",
      "https://tado.vanillacommunities.com/de/discussion/2424\n",
      "https://tado.vanillacommunities.com/de/discussion/7405\n",
      "https://tado.vanillacommunities.com/de/discussion/4865\n",
      "https://tado.vanillacommunities.com/de/discussion/11041\n",
      "https://tado.vanillacommunities.com/de/discussion/2769\n",
      "https://tado.vanillacommunities.com/de/discussion/4502\n",
      "https://tado.vanillacommunities.com/de/discussion/1791\n",
      "https://tado.vanillacommunities.com/de/discussion/10951\n",
      "https://tado.vanillacommunities.com/de/discussion/3162\n",
      "https://tado.vanillacommunities.com/de/discussion/1944\n",
      "https://tado.vanillacommunities.com/de/discussion/1973\n",
      "https://tado.vanillacommunities.com/de/discussion/1795\n",
      "https://tado.vanillacommunities.com/de/discussion/1175\n",
      "https://tado.vanillacommunities.com/de/discussion/472\n",
      "https://tado.vanillacommunities.com/de/discussion/3649\n",
      "https://tado.vanillacommunities.com/de/discussion/4391\n",
      "https://tado.vanillacommunities.com/de/discussion/7300\n",
      "https://tado.vanillacommunities.com/de/discussion/5319\n",
      "https://tado.vanillacommunities.com/de/discussion/775\n",
      "https://tado.vanillacommunities.com/de/discussion/3505\n",
      "https://tado.vanillacommunities.com/de/discussion/7299\n",
      "https://tado.vanillacommunities.com/de/discussion/2715\n",
      "https://tado.vanillacommunities.com/de/discussion/180\n",
      "https://tado.vanillacommunities.com/de/discussion/3039\n",
      "https://tado.vanillacommunities.com/de/discussion/4887\n",
      "https://tado.vanillacommunities.com/de/discussion/7262\n",
      "https://tado.vanillacommunities.com/de/discussion/5878\n",
      "https://tado.vanillacommunities.com/de/discussion/909\n",
      "https://tado.vanillacommunities.com/de/discussion/2331\n",
      "https://tado.vanillacommunities.com/de/discussion/3126\n",
      "https://tado.vanillacommunities.com/de/discussion/3437\n",
      "https://tado.vanillacommunities.com/de/discussion/4642\n",
      "https://tado.vanillacommunities.com/de/discussion/3528\n",
      "https://tado.vanillacommunities.com/de/discussion/749\n",
      "https://tado.vanillacommunities.com/de/discussion/1932\n",
      "https://tado.vanillacommunities.com/de/discussion/3451\n",
      "https://tado.vanillacommunities.com/de/discussion/408\n",
      "https://tado.vanillacommunities.com/de/discussion/1966\n",
      "https://tado.vanillacommunities.com/de/discussion/1753\n",
      "https://tado.vanillacommunities.com/de/discussion/1007\n",
      "https://tado.vanillacommunities.com/de/discussion/225\n",
      "https://tado.vanillacommunities.com/de/discussion/1501\n",
      "https://tado.vanillacommunities.com/de/discussion/2359\n",
      "https://tado.vanillacommunities.com/de/discussion/3322\n",
      "https://tado.vanillacommunities.com/de/discussion/2998\n",
      "https://tado.vanillacommunities.com/de/discussion/2214\n",
      "https://tado.vanillacommunities.com/de/discussion/2043\n",
      "https://tado.vanillacommunities.com/de/discussion/2479\n",
      "https://tado.vanillacommunities.com/de/discussion/334\n",
      "https://tado.vanillacommunities.com/de/discussion/2575\n",
      "https://tado.vanillacommunities.com/de/discussion/10757\n",
      "https://tado.vanillacommunities.com/de/discussion/1181\n",
      "https://tado.vanillacommunities.com/de/discussion/1369\n",
      "https://tado.vanillacommunities.com/de/discussion/6034\n",
      "https://tado.vanillacommunities.com/de/discussion/26\n",
      "https://tado.vanillacommunities.com/de/discussion/520\n",
      "https://tado.vanillacommunities.com/de/discussion/345\n",
      "https://tado.vanillacommunities.com/de/discussion/336\n",
      "https://tado.vanillacommunities.com/de/discussion/242\n",
      "https://tado.vanillacommunities.com/de/discussion/504\n",
      "https://tado.vanillacommunities.com/de/discussion/615\n",
      "https://tado.vanillacommunities.com/de/discussion/321\n",
      "https://tado.vanillacommunities.com/de/discussion/2818\n",
      "https://tado.vanillacommunities.com/de/discussion/7889\n",
      "https://tado.vanillacommunities.com/de/discussion/243\n",
      "https://tado.vanillacommunities.com/de/discussion/8677\n",
      "https://tado.vanillacommunities.com/de/discussion/5185\n",
      "https://tado.vanillacommunities.com/de/discussion/5925\n",
      "https://tado.vanillacommunities.com/de/discussion/1017\n",
      "https://tado.vanillacommunities.com/de/discussion/390\n",
      "https://tado.vanillacommunities.com/de/discussion/4170\n",
      "https://tado.vanillacommunities.com/de/discussion/2824\n",
      "https://tado.vanillacommunities.com/de/discussion/1154\n",
      "https://tado.vanillacommunities.com/de/discussion/3333\n"
     ]
    }
   ],
   "source": [
    "for line in data_lines:\n",
    "    main_url=base+str(line).replace(\"'\",\"\").replace(\"[\",\"\").replace(\"]\",\"\")\n",
    "#     html = urlopen(str(main_url))\n",
    "#     soup = BeautifulSoup(html, 'lxml')\n",
    "#     type(soup)\n",
    "    \n",
    "    print(str(main_url))"
   ]
  },
  {
   "cell_type": "code",
   "execution_count": 45,
   "id": "38ad15dd",
   "metadata": {},
   "outputs": [],
   "source": [
    "item4 = []"
   ]
  },
  {
   "cell_type": "code",
   "execution_count": 39,
   "id": "8c3d3f31",
   "metadata": {},
   "outputs": [],
   "source": [
    "for line in data_lines[0:5]:\n",
    "    item4.append(line[3])"
   ]
  },
  {
   "cell_type": "code",
   "execution_count": 41,
   "id": "d2b5981e",
   "metadata": {},
   "outputs": [
    {
     "data": {
      "text/plain": [
       "['40', '40', '40', '50', 'Title 4', '40', '40', '40', '50']"
      ]
     },
     "execution_count": 41,
     "metadata": {},
     "output_type": "execute_result"
    }
   ],
   "source": [
    "item4"
   ]
  },
  {
   "cell_type": "code",
   "execution_count": 42,
   "id": "802f7ee8",
   "metadata": {},
   "outputs": [
    {
     "data": {
      "text/plain": [
       "['C', '10', '30', '40', '50']"
      ]
     },
     "execution_count": 42,
     "metadata": {},
     "output_type": "execute_result"
    }
   ],
   "source": [
    "data_lines[3]"
   ]
  },
  {
   "cell_type": "code",
   "execution_count": null,
   "id": "6a7f43d0",
   "metadata": {},
   "outputs": [],
   "source": []
  }
 ],
 "metadata": {
  "kernelspec": {
   "display_name": "Python 3 (ipykernel)",
   "language": "python",
   "name": "python3"
  },
  "language_info": {
   "codemirror_mode": {
    "name": "ipython",
    "version": 3
   },
   "file_extension": ".py",
   "mimetype": "text/x-python",
   "name": "python",
   "nbconvert_exporter": "python",
   "pygments_lexer": "ipython3",
   "version": "3.9.12"
  }
 },
 "nbformat": 4,
 "nbformat_minor": 5
}
