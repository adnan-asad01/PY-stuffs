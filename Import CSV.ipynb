{
 "cells": [
  {
   "cell_type": "markdown",
   "id": "16c08f86",
   "metadata": {},
   "source": [
    "#### Import"
   ]
  },
  {
   "cell_type": "code",
   "execution_count": 32,
   "id": "af8fbea2",
   "metadata": {},
   "outputs": [],
   "source": [
    "import numpy as np\n",
    "import pandas\n",
    "\n",
    "import csv\n",
    "import matplotlib.pyplot as plt\n",
    "import seaborn as sns\n",
    "%matplotlib inline\n",
    "from urllib.request import urlopen\n",
    "from bs4 import BeautifulSoup\n",
    "#import selenium\n",
    "\n"
   ]
  },
  {
   "cell_type": "code",
   "execution_count": 33,
   "id": "dd12083c",
   "metadata": {},
   "outputs": [],
   "source": [
    "# open the file\n",
    "data = open(r'C:\\Users\\adnan\\Downloads\\Copy_of_Top_10.csv',encoding = 'utf-8')"
   ]
  },
  {
   "cell_type": "code",
   "execution_count": 34,
   "id": "5de4c00b",
   "metadata": {},
   "outputs": [],
   "source": [
    "# csv.read\n",
    "csv_data = csv.reader(data)"
   ]
  },
  {
   "cell_type": "code",
   "execution_count": 35,
   "id": "e25ba070",
   "metadata": {},
   "outputs": [],
   "source": [
    "# reformat it into a python object list\n",
    "data_lines = list(csv_data)\n",
    "# first part of the URL is constant\n",
    "base = \"https://tado.com/\"\n",
    "data_array = np.array(data_lines)\n",
    "#print(type(data_array))"
   ]
  },
  {
   "cell_type": "code",
   "execution_count": 36,
   "id": "d7c75c25",
   "metadata": {},
   "outputs": [
    {
     "data": {
      "text/plain": [
       "137"
      ]
     },
     "execution_count": 36,
     "metadata": {},
     "output_type": "execute_result"
    }
   ],
   "source": [
    "# count of IDs\n",
    "len(data_lines)"
   ]
  },
  {
   "cell_type": "code",
   "execution_count": 37,
   "id": "9a2d00c6",
   "metadata": {},
   "outputs": [
    {
     "ename": "IndentationError",
     "evalue": "unexpected indent (2052627922.py, line 4)",
     "output_type": "error",
     "traceback": [
      "\u001b[1;36m  Input \u001b[1;32mIn [37]\u001b[1;36m\u001b[0m\n\u001b[1;33m    url = str(base)\u001b[0m\n\u001b[1;37m    ^\u001b[0m\n\u001b[1;31mIndentationError\u001b[0m\u001b[1;31m:\u001b[0m unexpected indent\n"
     ]
    }
   ],
   "source": [
    "# access to each IDs one by one\n",
    "#for line in data_lines:\n",
    "  #  main_url=base+str(line).replace(\"'\",\"\").replace(\"[\",\"\").replace(\"]\",\"\")\n",
    "    url = str(base)\n",
    "    \n",
    "    html = urlopen(url)\n",
    "#     soup = BeautifulSoup(html, 'lxml')\n",
    "#     type(soup)\n",
    "    \n",
    "    \n",
    "#    print(str(main_url))"
   ]
  },
  {
   "cell_type": "code",
   "execution_count": 39,
   "id": "8c3d3f31",
   "metadata": {},
   "outputs": [],
   "source": [
    "#for line in data_lines[0:5]:\n",
    "#    item4.append(line[3])"
   ]
  }
 ],
 "metadata": {
  "kernelspec": {
   "display_name": "Python 3 (ipykernel)",
   "language": "python",
   "name": "python3"
  },
  "language_info": {
   "codemirror_mode": {
    "name": "ipython",
    "version": 3
   },
   "file_extension": ".py",
   "mimetype": "text/x-python",
   "name": "python",
   "nbconvert_exporter": "python",
   "pygments_lexer": "ipython3",
   "version": "3.9.12"
  }
 },
 "nbformat": 4,
 "nbformat_minor": 5
}
