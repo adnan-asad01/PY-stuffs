{
 "cells": [
  {
   "cell_type": "markdown",
   "id": "425a03f2",
   "metadata": {},
   "source": [
    "# 'String here{} then also {}'.format('something1','something2')"
   ]
  },
  {
   "cell_type": "code",
   "execution_count": 1,
   "id": "69dd8e8b",
   "metadata": {},
   "outputs": [
    {
     "name": "stdout",
     "output_type": "stream",
     "text": [
      "this is a sting INSERTED\n"
     ]
    }
   ],
   "source": [
    "print('this is a sting {}'.format('INSERTED'))"
   ]
  },
  {
   "cell_type": "code",
   "execution_count": 2,
   "id": "330f3113",
   "metadata": {},
   "outputs": [
    {
     "name": "stdout",
     "output_type": "stream",
     "text": [
      "the fox brown quick\n"
     ]
    }
   ],
   "source": [
    "print('the {} {} {}'.format('fox','brown','quick'))"
   ]
  },
  {
   "cell_type": "code",
   "execution_count": 3,
   "id": "89491bb7",
   "metadata": {},
   "outputs": [
    {
     "name": "stdout",
     "output_type": "stream",
     "text": [
      "the quick brown fox\n"
     ]
    }
   ],
   "source": [
    "print('the {2} {1} {0}'.format('fox','brown','quick'))"
   ]
  },
  {
   "cell_type": "code",
   "execution_count": 4,
   "id": "4101cb14",
   "metadata": {},
   "outputs": [
    {
     "name": "stdout",
     "output_type": "stream",
     "text": [
      "the fox fox fox\n"
     ]
    }
   ],
   "source": [
    "print('the {0} {0} {0}'.format('fox','brown','quick'))"
   ]
  },
  {
   "cell_type": "code",
   "execution_count": 5,
   "id": "e8534807",
   "metadata": {},
   "outputs": [
    {
     "name": "stdout",
     "output_type": "stream",
     "text": [
      "the quick brown fox\n"
     ]
    }
   ],
   "source": [
    "print('the {q} {b} {f}'.format(f='fox',b='brown',q='quick'))"
   ]
  },
  {
   "cell_type": "markdown",
   "id": "0e71d00e",
   "metadata": {},
   "source": [
    "# Float formatting \"{value:width.precision f}\""
   ]
  },
  {
   "cell_type": "code",
   "execution_count": 6,
   "id": "0291447d",
   "metadata": {},
   "outputs": [],
   "source": [
    "result = 100/777"
   ]
  },
  {
   "cell_type": "code",
   "execution_count": 7,
   "id": "917d0e9d",
   "metadata": {},
   "outputs": [
    {
     "data": {
      "text/plain": [
       "0.1287001287001287"
      ]
     },
     "execution_count": 7,
     "metadata": {},
     "output_type": "execute_result"
    }
   ],
   "source": [
    "result"
   ]
  },
  {
   "cell_type": "code",
   "execution_count": 13,
   "id": "205d47d8",
   "metadata": {},
   "outputs": [
    {
     "name": "stdout",
     "output_type": "stream",
     "text": [
      "This is the result 0.12870\n"
     ]
    }
   ],
   "source": [
    "print(\"This is the result {r:1.5f}\".format(r=result))"
   ]
  },
  {
   "cell_type": "markdown",
   "id": "2caf8661",
   "metadata": {},
   "source": [
    "# f'strings'"
   ]
  },
  {
   "cell_type": "code",
   "execution_count": 14,
   "id": "abf600e1",
   "metadata": {},
   "outputs": [],
   "source": [
    "name = 'Adnan'\n",
    "age = 5"
   ]
  },
  {
   "cell_type": "code",
   "execution_count": 15,
   "id": "69dabf00",
   "metadata": {},
   "outputs": [
    {
     "name": "stdout",
     "output_type": "stream",
     "text": [
      "Adnan is 5 years old.\n"
     ]
    }
   ],
   "source": [
    "print(f\"{name} is {age} years old.\")"
   ]
  },
  {
   "cell_type": "code",
   "execution_count": null,
   "id": "94743404",
   "metadata": {},
   "outputs": [],
   "source": []
  }
 ],
 "metadata": {
  "kernelspec": {
   "display_name": "Python 3 (ipykernel)",
   "language": "python",
   "name": "python3"
  },
  "language_info": {
   "codemirror_mode": {
    "name": "ipython",
    "version": 3
   },
   "file_extension": ".py",
   "mimetype": "text/x-python",
   "name": "python",
   "nbconvert_exporter": "python",
   "pygments_lexer": "ipython3",
   "version": "3.9.12"
  }
 },
 "nbformat": 4,
 "nbformat_minor": 5
}
