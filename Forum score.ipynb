{
 "cells": [
  {
   "cell_type": "markdown",
   "id": "16c08f86",
   "metadata": {},
   "source": [
    "#### Import"
   ]
  },
  {
   "cell_type": "code",
   "execution_count": 45,
   "id": "af8fbea2",
   "metadata": {},
   "outputs": [],
   "source": [
    "import numpy as np\n",
    "import pandas\n",
    "\n",
    "import csv\n",
    "import matplotlib.pyplot as plt\n",
    "import seaborn as sns\n",
    "%matplotlib inline\n",
    "\n",
    "import requests\n",
    "\n",
    "from urllib.request import urlopen\n",
    "from bs4 import BeautifulSoup\n",
    "#import selenium\n",
    "\n"
   ]
  },
  {
   "cell_type": "code",
   "execution_count": 46,
   "id": "dd12083c",
   "metadata": {},
   "outputs": [],
   "source": [
    "# open the file\n",
    "data = open(r'C:\\Users\\adnan\\Downloads\\Copy_of_Top_10.csv',encoding = 'utf-8')"
   ]
  },
  {
   "cell_type": "code",
   "execution_count": 47,
   "id": "5de4c00b",
   "metadata": {},
   "outputs": [],
   "source": [
    "# csv.read\n",
    "csv_data = csv.reader(data)"
   ]
  },
  {
   "cell_type": "code",
   "execution_count": 48,
   "id": "e25ba070",
   "metadata": {},
   "outputs": [],
   "source": [
    "# reformat it into a python object list\n",
    "data_lines = list(csv_data)\n",
    "# first part of the URL is constant\n",
    "base = \"https://tado.vanillacommunities.com/api/v2/discussion/\"\n",
    "data_array = np.array(data_lines)\n",
    "#print(type(data_array))"
   ]
  },
  {
   "cell_type": "code",
   "execution_count": 49,
   "id": "d7c75c25",
   "metadata": {},
   "outputs": [
    {
     "data": {
      "text/plain": [
       "137"
      ]
     },
     "execution_count": 49,
     "metadata": {},
     "output_type": "execute_result"
    }
   ],
   "source": [
    "# count of IDs\n",
    "len(data_lines)"
   ]
  },
  {
   "cell_type": "code",
   "execution_count": 44,
   "id": "9a2d00c6",
   "metadata": {},
   "outputs": [
    {
     "name": "stdout",
     "output_type": "stream",
     "text": [
      "https://tado.vanillacommunities.com/api/v2/discussion/458\n",
      "https://tado.vanillacommunities.com/api/v2/discussion/1736\n",
      "https://tado.vanillacommunities.com/api/v2/discussion/724\n",
      "https://tado.vanillacommunities.com/api/v2/discussion/282\n",
      "https://tado.vanillacommunities.com/api/v2/discussion/1413\n",
      "https://tado.vanillacommunities.com/api/v2/discussion/729\n",
      "https://tado.vanillacommunities.com/api/v2/discussion/2741\n",
      "https://tado.vanillacommunities.com/api/v2/discussion/1140\n",
      "https://tado.vanillacommunities.com/api/v2/discussion/3832\n",
      "https://tado.vanillacommunities.com/api/v2/discussion/2162\n",
      "https://tado.vanillacommunities.com/api/v2/discussion/3561\n",
      "https://tado.vanillacommunities.com/api/v2/discussion/1166\n",
      "https://tado.vanillacommunities.com/api/v2/discussion/2315\n",
      "https://tado.vanillacommunities.com/api/v2/discussion/316\n",
      "https://tado.vanillacommunities.com/api/v2/discussion/8607\n",
      "https://tado.vanillacommunities.com/api/v2/discussion/1909\n",
      "https://tado.vanillacommunities.com/api/v2/discussion/1860\n",
      "https://tado.vanillacommunities.com/api/v2/discussion/387\n",
      "https://tado.vanillacommunities.com/api/v2/discussion/3404\n",
      "https://tado.vanillacommunities.com/api/v2/discussion/1415\n",
      "https://tado.vanillacommunities.com/api/v2/discussion/721\n",
      "https://tado.vanillacommunities.com/api/v2/discussion/616\n",
      "https://tado.vanillacommunities.com/api/v2/discussion/464\n",
      "https://tado.vanillacommunities.com/api/v2/discussion/4783\n",
      "https://tado.vanillacommunities.com/api/v2/discussion/850\n",
      "https://tado.vanillacommunities.com/api/v2/discussion/6\n",
      "https://tado.vanillacommunities.com/api/v2/discussion/441\n",
      "https://tado.vanillacommunities.com/api/v2/discussion/1377\n",
      "https://tado.vanillacommunities.com/api/v2/discussion/541\n",
      "https://tado.vanillacommunities.com/api/v2/discussion/2515\n",
      "https://tado.vanillacommunities.com/api/v2/discussion/457\n",
      "https://tado.vanillacommunities.com/api/v2/discussion/437\n",
      "https://tado.vanillacommunities.com/api/v2/discussion/8235\n",
      "https://tado.vanillacommunities.com/api/v2/discussion/2142\n",
      "https://tado.vanillacommunities.com/api/v2/discussion/1232\n",
      "https://tado.vanillacommunities.com/api/v2/discussion/3984\n",
      "https://tado.vanillacommunities.com/api/v2/discussion/4325\n",
      "https://tado.vanillacommunities.com/api/v2/discussion/818\n",
      "https://tado.vanillacommunities.com/api/v2/discussion/7040\n",
      "https://tado.vanillacommunities.com/api/v2/discussion/646\n",
      "https://tado.vanillacommunities.com/api/v2/discussion/1264\n",
      "https://tado.vanillacommunities.com/api/v2/discussion/1796\n",
      "https://tado.vanillacommunities.com/api/v2/discussion/1332\n",
      "https://tado.vanillacommunities.com/api/v2/discussion/443\n",
      "https://tado.vanillacommunities.com/api/v2/discussion/473\n",
      "https://tado.vanillacommunities.com/api/v2/discussion/1200\n",
      "https://tado.vanillacommunities.com/api/v2/discussion/4652\n",
      "https://tado.vanillacommunities.com/api/v2/discussion/3875\n",
      "https://tado.vanillacommunities.com/api/v2/discussion/550\n",
      "https://tado.vanillacommunities.com/api/v2/discussion/438\n",
      "https://tado.vanillacommunities.com/api/v2/discussion/1258\n",
      "https://tado.vanillacommunities.com/api/v2/discussion/1896\n",
      "https://tado.vanillacommunities.com/api/v2/discussion/2760\n",
      "https://tado.vanillacommunities.com/api/v2/discussion/2970\n",
      "https://tado.vanillacommunities.com/api/v2/discussion/4814\n",
      "https://tado.vanillacommunities.com/api/v2/discussion/1893\n",
      "https://tado.vanillacommunities.com/api/v2/discussion/4828\n",
      "https://tado.vanillacommunities.com/api/v2/discussion/3702\n",
      "https://tado.vanillacommunities.com/api/v2/discussion/592\n",
      "https://tado.vanillacommunities.com/api/v2/discussion/617\n",
      "https://tado.vanillacommunities.com/api/v2/discussion/1256\n",
      "https://tado.vanillacommunities.com/api/v2/discussion/2729\n",
      "https://tado.vanillacommunities.com/api/v2/discussion/3610\n",
      "https://tado.vanillacommunities.com/api/v2/discussion/2424\n",
      "https://tado.vanillacommunities.com/api/v2/discussion/7405\n",
      "https://tado.vanillacommunities.com/api/v2/discussion/4865\n",
      "https://tado.vanillacommunities.com/api/v2/discussion/11041\n",
      "https://tado.vanillacommunities.com/api/v2/discussion/2769\n",
      "https://tado.vanillacommunities.com/api/v2/discussion/4502\n",
      "https://tado.vanillacommunities.com/api/v2/discussion/1791\n",
      "https://tado.vanillacommunities.com/api/v2/discussion/10951\n",
      "https://tado.vanillacommunities.com/api/v2/discussion/3162\n",
      "https://tado.vanillacommunities.com/api/v2/discussion/1944\n",
      "https://tado.vanillacommunities.com/api/v2/discussion/1973\n",
      "https://tado.vanillacommunities.com/api/v2/discussion/1795\n",
      "https://tado.vanillacommunities.com/api/v2/discussion/1175\n",
      "https://tado.vanillacommunities.com/api/v2/discussion/472\n",
      "https://tado.vanillacommunities.com/api/v2/discussion/3649\n",
      "https://tado.vanillacommunities.com/api/v2/discussion/4391\n",
      "https://tado.vanillacommunities.com/api/v2/discussion/7300\n",
      "https://tado.vanillacommunities.com/api/v2/discussion/5319\n",
      "https://tado.vanillacommunities.com/api/v2/discussion/775\n",
      "https://tado.vanillacommunities.com/api/v2/discussion/3505\n",
      "https://tado.vanillacommunities.com/api/v2/discussion/7299\n",
      "https://tado.vanillacommunities.com/api/v2/discussion/2715\n",
      "https://tado.vanillacommunities.com/api/v2/discussion/180\n",
      "https://tado.vanillacommunities.com/api/v2/discussion/3039\n",
      "https://tado.vanillacommunities.com/api/v2/discussion/4887\n",
      "https://tado.vanillacommunities.com/api/v2/discussion/7262\n",
      "https://tado.vanillacommunities.com/api/v2/discussion/5878\n",
      "https://tado.vanillacommunities.com/api/v2/discussion/909\n",
      "https://tado.vanillacommunities.com/api/v2/discussion/2331\n",
      "https://tado.vanillacommunities.com/api/v2/discussion/3126\n",
      "https://tado.vanillacommunities.com/api/v2/discussion/3437\n",
      "https://tado.vanillacommunities.com/api/v2/discussion/4642\n",
      "https://tado.vanillacommunities.com/api/v2/discussion/3528\n",
      "https://tado.vanillacommunities.com/api/v2/discussion/749\n",
      "https://tado.vanillacommunities.com/api/v2/discussion/1932\n",
      "https://tado.vanillacommunities.com/api/v2/discussion/3451\n",
      "https://tado.vanillacommunities.com/api/v2/discussion/408\n",
      "https://tado.vanillacommunities.com/api/v2/discussion/1966\n",
      "https://tado.vanillacommunities.com/api/v2/discussion/1753\n",
      "https://tado.vanillacommunities.com/api/v2/discussion/1007\n",
      "https://tado.vanillacommunities.com/api/v2/discussion/225\n",
      "https://tado.vanillacommunities.com/api/v2/discussion/1501\n",
      "https://tado.vanillacommunities.com/api/v2/discussion/2359\n",
      "https://tado.vanillacommunities.com/api/v2/discussion/3322\n",
      "https://tado.vanillacommunities.com/api/v2/discussion/2998\n",
      "https://tado.vanillacommunities.com/api/v2/discussion/2214\n",
      "https://tado.vanillacommunities.com/api/v2/discussion/2043\n",
      "https://tado.vanillacommunities.com/api/v2/discussion/2479\n",
      "https://tado.vanillacommunities.com/api/v2/discussion/334\n",
      "https://tado.vanillacommunities.com/api/v2/discussion/2575\n",
      "https://tado.vanillacommunities.com/api/v2/discussion/10757\n",
      "https://tado.vanillacommunities.com/api/v2/discussion/1181\n",
      "https://tado.vanillacommunities.com/api/v2/discussion/1369\n",
      "https://tado.vanillacommunities.com/api/v2/discussion/6034\n",
      "https://tado.vanillacommunities.com/api/v2/discussion/26\n",
      "https://tado.vanillacommunities.com/api/v2/discussion/520\n",
      "https://tado.vanillacommunities.com/api/v2/discussion/345\n",
      "https://tado.vanillacommunities.com/api/v2/discussion/336\n",
      "https://tado.vanillacommunities.com/api/v2/discussion/242\n",
      "https://tado.vanillacommunities.com/api/v2/discussion/504\n",
      "https://tado.vanillacommunities.com/api/v2/discussion/615\n",
      "https://tado.vanillacommunities.com/api/v2/discussion/321\n",
      "https://tado.vanillacommunities.com/api/v2/discussion/2818\n",
      "https://tado.vanillacommunities.com/api/v2/discussion/7889\n",
      "https://tado.vanillacommunities.com/api/v2/discussion/243\n",
      "https://tado.vanillacommunities.com/api/v2/discussion/8677\n",
      "https://tado.vanillacommunities.com/api/v2/discussion/5185\n",
      "https://tado.vanillacommunities.com/api/v2/discussion/5925\n",
      "https://tado.vanillacommunities.com/api/v2/discussion/1017\n",
      "https://tado.vanillacommunities.com/api/v2/discussion/390\n",
      "https://tado.vanillacommunities.com/api/v2/discussion/4170\n",
      "https://tado.vanillacommunities.com/api/v2/discussion/2824\n",
      "https://tado.vanillacommunities.com/api/v2/discussion/1154\n",
      "https://tado.vanillacommunities.com/api/v2/discussion/3333\n"
     ]
    }
   ],
   "source": [
    "# access to each IDs one by one\n",
    "for line in data_lines:\n",
    "    main_url=base+str(line).replace(\"'\",\"\").replace(\"[\",\"\").replace(\"]\",\"\")\n",
    "    url = str(base)\n",
    "    \n",
    "#    html = urlopen(url)\n",
    "#     soup = BeautifulSoup(html, 'lxml')\n",
    "#     type(soup)\n",
    "    \n",
    "    \n",
    "    print(str(main_url))"
   ]
  },
  {
   "cell_type": "code",
   "execution_count": 50,
   "id": "8c3d3f31",
   "metadata": {},
   "outputs": [
    {
     "name": "stdout",
     "output_type": "stream",
     "text": [
      "{'discussionID': 458, 'type': 'idea', 'name': 'echter Fensterkontakt', 'body': '<p>In einem Raum mit mehreren Heizkörpern, Fenstern und einer Balkontür wird die Temperatur nicht über den Heizköperthermostat (HKT) sondern über die smarten Themostaten (ST) gemessen. Was übrigens für eine bessereres und gleichmässigeres Heizprofil sorgt, als wenn die Temperatur über den HKT gemessen wird. Die \"Fenster-offen-Funktion\" wird in diesem Raum nie ausgelößt, wenn ich die Balkontür zum lüften aufmache. Der ST ist wohl zu weit weg und somit der Temperaturabfall nicht stark genug. Das ist übrigens auch im Bad so, wo der Wand-Heizkörper nicht am Fenster ist. </p><p>Ich fände es daher toll, wenn Tado ähnlich wie andere Anbieter eigene Fensterkontakte für eine sicherere \"Fenster-offen-Erkennung\" anbieten würde, die dann die entsprechenden Heizkörper auch nur solange ausschaltet, wie das Fenster offen ist.</p>', 'categoryID': 41, 'dateInserted': '2019-02-25T10:35:52+00:00', 'dateUpdated': None, 'dateLastComment': '2022-09-17T20:19:00+00:00', 'insertUserID': 351, 'insertUser': {'userID': 351, 'name': 'blnklaus', 'url': 'https://community.tado.com/profile/blnklaus', 'photoUrl': 'https://secure.gravatar.com/avatar/9975392651b9d64e5f178841e20c0070/?default=https%3A%2F%2Fvanillicon.com%2F8b999f3486d0af1bda9e12696679f16c_200.png&rating=g&size=200', 'dateLastActive': '2021-10-27T13:05:45+00:00', 'banned': 0, 'punished': 0, 'private': False, 'label': '✭✭✭'}, 'updateUserID': None, 'lastUserID': 33155, 'lastUser': {'userID': 33155, 'name': 'hdjdlebdk', 'url': 'https://community.tado.com/profile/hdjdlebdk', 'photoUrl': 'https://secure.gravatar.com/avatar/58c621eb1af622770ae08ac51eb0514a/?default=https%3A%2F%2Fvanillicon.com%2Fb3722e1219246febd54af7d547521dc5_200.png&rating=g&size=200', 'dateLastActive': '2022-09-17T20:14:56+00:00', 'banned': 0, 'punished': 0, 'private': False, 'label': '✭'}, 'pinned': False, 'pinLocation': None, 'closed': False, 'sink': False, 'countComments': 201, 'countViews': 27915, 'score': 259, 'hot': 3214735192, 'url': 'https://community.tado.com/de/discussion/458/echter-fensterkontakt', 'canonicalUrl': 'https://community.tado.com/de/discussion/458/echter-fensterkontakt', 'format': 'Rich', 'groupID': None, 'statusID': 10000, 'attributes': {'idea': {'statusNotes': None, 'statusID': 10000, 'status': {'name': 'Active', 'state': 'open'}, 'type': 'up'}}, 'bookmarked': False, 'unread': False}\n"
     ]
    }
   ],
   "source": [
    "response = requests.get(\"https://community.tado.com/api/v2/discussions/458\")\n",
    "print(response.json())"
   ]
  },
  {
   "cell_type": "code",
   "execution_count": null,
   "id": "c32041ad",
   "metadata": {},
   "outputs": [],
   "source": []
  }
 ],
 "metadata": {
  "kernelspec": {
   "display_name": "Python 3 (ipykernel)",
   "language": "python",
   "name": "python3"
  },
  "language_info": {
   "codemirror_mode": {
    "name": "ipython",
    "version": 3
   },
   "file_extension": ".py",
   "mimetype": "text/x-python",
   "name": "python",
   "nbconvert_exporter": "python",
   "pygments_lexer": "ipython3",
   "version": "3.9.12"
  }
 },
 "nbformat": 4,
 "nbformat_minor": 5
}
