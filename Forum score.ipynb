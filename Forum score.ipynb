{
 "cells": [
  {
   "cell_type": "markdown",
   "id": "16c08f86",
   "metadata": {},
   "source": [
    "#### Import"
   ]
  },
  {
   "cell_type": "code",
   "execution_count": 101,
   "id": "af8fbea2",
   "metadata": {},
   "outputs": [],
   "source": [
    "import numpy as np\n",
    "import pandas\n",
    "\n",
    "import csv\n",
    "import matplotlib.pyplot as plt\n",
    "import seaborn as sns\n",
    "%matplotlib inline\n",
    "\n",
    "import requests\n",
    "\n",
    "from urllib.request import urlopen\n",
    "from bs4 import BeautifulSoup\n",
    "#import selenium\n",
    "\n"
   ]
  },
  {
   "cell_type": "code",
   "execution_count": 102,
   "id": "dd12083c",
   "metadata": {},
   "outputs": [],
   "source": [
    "# open the file\n",
    "data = open(r'C:\\Users\\adnan\\Downloads\\Copy_of_Top_10.csv',encoding = 'utf-8')"
   ]
  },
  {
   "cell_type": "code",
   "execution_count": 103,
   "id": "5de4c00b",
   "metadata": {},
   "outputs": [],
   "source": [
    "# csv.read\n",
    "csv_data = csv.reader(data)"
   ]
  },
  {
   "cell_type": "code",
   "execution_count": 104,
   "id": "e25ba070",
   "metadata": {},
   "outputs": [],
   "source": [
    "# reformat it into a python object list\n",
    "id_list = list(csv_data)\n",
    "# first part of the URL is constant\n",
    "base = \"https://community.tado.com/api/v2/discussions/\"\n",
    "data_array = np.array(id_list)\n",
    "#print(type(data_array))"
   ]
  },
  {
   "cell_type": "code",
   "execution_count": 105,
   "id": "d7c75c25",
   "metadata": {},
   "outputs": [
    {
     "data": {
      "text/plain": [
       "137"
      ]
     },
     "execution_count": 105,
     "metadata": {},
     "output_type": "execute_result"
    }
   ],
   "source": [
    "# count of IDs\n",
    "len(id_list)"
   ]
  },
  {
   "cell_type": "code",
   "execution_count": 112,
   "id": "9a2d00c6",
   "metadata": {},
   "outputs": [
    {
     "name": "stdout",
     "output_type": "stream",
     "text": [
      "259\n",
      "220\n",
      "206\n",
      "162\n",
      "123\n",
      "191\n",
      "67\n",
      "70\n",
      "61\n",
      "56\n",
      "52\n",
      "48\n",
      "44\n",
      "39\n",
      "46\n",
      "41\n",
      "35\n",
      "35\n",
      "32\n",
      "22\n"
     ]
    }
   ],
   "source": [
    "# access to each IDs one by one\n",
    "for line in id_list[:20]:\n",
    "    main_url = base + str(line).replace(\"'\",\"\").replace(\"[\",\"\").replace(\"]\",\"\").replace(\"'\",\"\")\n",
    "    url = str(base)\n",
    "    \n",
    "    response = requests.get(main_url)\n",
    "    data = response.json()\n",
    "    \n",
    "    \n",
    "    print(str(data['score']))"
   ]
  },
  {
   "cell_type": "code",
   "execution_count": 107,
   "id": "8c3d3f31",
   "metadata": {},
   "outputs": [],
   "source": [
    "response = requests.get(main_url)\n",
    "data = response.json()"
   ]
  },
  {
   "cell_type": "code",
   "execution_count": 108,
   "id": "b0bbd684",
   "metadata": {},
   "outputs": [
    {
     "data": {
      "text/plain": [
       "123"
      ]
     },
     "execution_count": 108,
     "metadata": {},
     "output_type": "execute_result"
    }
   ],
   "source": [
    "data['score']"
   ]
  },
  {
   "cell_type": "code",
   "execution_count": 57,
   "id": "9f0ce1e4",
   "metadata": {},
   "outputs": [],
   "source": [
    "s = \"https://community.tado.com/api/v2/discussions/458\""
   ]
  },
  {
   "cell_type": "code",
   "execution_count": 96,
   "id": "6a37c062",
   "metadata": {},
   "outputs": [],
   "source": [
    "response = requests.get(main_url)\n",
    "datab = response.json()"
   ]
  },
  {
   "cell_type": "code",
   "execution_count": 98,
   "id": "28cbd86f",
   "metadata": {},
   "outputs": [
    {
     "data": {
      "text/plain": [
       "123"
      ]
     },
     "execution_count": 98,
     "metadata": {},
     "output_type": "execute_result"
    }
   ],
   "source": [
    "datab['score']"
   ]
  },
  {
   "cell_type": "code",
   "execution_count": 95,
   "id": "2f203fda",
   "metadata": {},
   "outputs": [
    {
     "data": {
      "text/plain": [
       "'https://community.tado.com/api/v2/discussions/1413'"
      ]
     },
     "execution_count": 95,
     "metadata": {},
     "output_type": "execute_result"
    }
   ],
   "source": [
    "main_url"
   ]
  },
  {
   "cell_type": "code",
   "execution_count": null,
   "id": "f21c6c62",
   "metadata": {},
   "outputs": [],
   "source": []
  }
 ],
 "metadata": {
  "kernelspec": {
   "display_name": "Python 3 (ipykernel)",
   "language": "python",
   "name": "python3"
  },
  "language_info": {
   "codemirror_mode": {
    "name": "ipython",
    "version": 3
   },
   "file_extension": ".py",
   "mimetype": "text/x-python",
   "name": "python",
   "nbconvert_exporter": "python",
   "pygments_lexer": "ipython3",
   "version": "3.9.12"
  }
 },
 "nbformat": 4,
 "nbformat_minor": 5
}
