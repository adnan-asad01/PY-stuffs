{
 "cells": [
  {
   "cell_type": "markdown",
   "id": "16c08f86",
   "metadata": {},
   "source": [
    "#### Import"
   ]
  },
  {
   "cell_type": "code",
   "execution_count": 45,
   "id": "af8fbea2",
   "metadata": {},
   "outputs": [],
   "source": [
    "import numpy as np\n",
    "import pandas\n",
    "\n",
    "import csv\n",
    "import matplotlib.pyplot as plt\n",
    "import seaborn as sns\n",
    "%matplotlib inline\n",
    "\n",
    "import requests\n",
    "\n",
    "from urllib.request import urlopen\n",
    "from bs4 import BeautifulSoup\n",
    "#import selenium\n",
    "\n"
   ]
  },
  {
   "cell_type": "code",
   "execution_count": 46,
   "id": "dd12083c",
   "metadata": {},
   "outputs": [],
   "source": [
    "# open the file\n",
    "data = open(r'C:\\Users\\adnan\\Downloads\\Copy_of_Top_10.csv',encoding = 'utf-8')"
   ]
  },
  {
   "cell_type": "code",
   "execution_count": 47,
   "id": "5de4c00b",
   "metadata": {},
   "outputs": [],
   "source": [
    "# csv.read\n",
    "csv_data = csv.reader(data)"
   ]
  },
  {
   "cell_type": "code",
   "execution_count": 48,
   "id": "e25ba070",
   "metadata": {},
   "outputs": [],
   "source": [
    "# reformat it into a python object list\n",
    "data_lines = list(csv_data)\n",
    "# first part of the URL is constant\n",
    "base = \"https://tado.vanillacommunities.com/api/v2/discussion/\"\n",
    "data_array = np.array(data_lines)\n",
    "#print(type(data_array))"
   ]
  },
  {
   "cell_type": "code",
   "execution_count": 49,
   "id": "d7c75c25",
   "metadata": {},
   "outputs": [
    {
     "data": {
      "text/plain": [
       "137"
      ]
     },
     "execution_count": 49,
     "metadata": {},
     "output_type": "execute_result"
    }
   ],
   "source": [
    "# count of IDs\n",
    "len(data_lines)"
   ]
  },
  {
   "cell_type": "code",
   "execution_count": 67,
   "id": "9a2d00c6",
   "metadata": {},
   "outputs": [
    {
     "name": "stdout",
     "output_type": "stream",
     "text": [
      "https://tado.vanillacommunities.com/api/v2/discussion/729\n"
     ]
    }
   ],
   "source": [
    "# access to each IDs one by one\n",
    "for line in data_lines[05]:\n",
    "    main_url=base+str(line).replace(\"'\",\"\").replace(\"[\",\"\").replace(\"]\",\"\")\n",
    "    url = str(base)\n",
    "    \n",
    "#    html = urlopen(url)\n",
    "#     soup = BeautifulSoup(html, 'lxml')\n",
    "#     type(soup)\n",
    "    \n",
    "    \n",
    "    print(str(main_url))"
   ]
  },
  {
   "cell_type": "code",
   "execution_count": 63,
   "id": "8c3d3f31",
   "metadata": {},
   "outputs": [],
   "source": [
    "response = requests.get(\"https://community.tado.com/api/v2/discussions/458\")\n",
    "data = response.json()"
   ]
  },
  {
   "cell_type": "code",
   "execution_count": 54,
   "id": "b2cae942",
   "metadata": {},
   "outputs": [
    {
     "data": {
      "text/plain": [
       "259"
      ]
     },
     "execution_count": 54,
     "metadata": {},
     "output_type": "execute_result"
    }
   ],
   "source": [
    "data['score']"
   ]
  },
  {
   "cell_type": "code",
   "execution_count": 57,
   "id": "84281448",
   "metadata": {},
   "outputs": [],
   "source": [
    "s = \"https://community.tado.com/api/v2/discussions/458\""
   ]
  },
  {
   "cell_type": "code",
   "execution_count": 58,
   "id": "5a596d92",
   "metadata": {},
   "outputs": [],
   "source": [
    "response = requests.get(s)\n",
    "datab = response.json()"
   ]
  },
  {
   "cell_type": "code",
   "execution_count": 60,
   "id": "d6164bf8",
   "metadata": {},
   "outputs": [
    {
     "data": {
      "text/plain": [
       "259"
      ]
     },
     "execution_count": 60,
     "metadata": {},
     "output_type": "execute_result"
    }
   ],
   "source": [
    "datab['score']"
   ]
  },
  {
   "cell_type": "code",
   "execution_count": null,
   "id": "ec9ded30",
   "metadata": {},
   "outputs": [],
   "source": []
  }
 ],
 "metadata": {
  "kernelspec": {
   "display_name": "Python 3 (ipykernel)",
   "language": "python",
   "name": "python3"
  },
  "language_info": {
   "codemirror_mode": {
    "name": "ipython",
    "version": 3
   },
   "file_extension": ".py",
   "mimetype": "text/x-python",
   "name": "python",
   "nbconvert_exporter": "python",
   "pygments_lexer": "ipython3",
   "version": "3.9.12"
  }
 },
 "nbformat": 4,
 "nbformat_minor": 5
}
